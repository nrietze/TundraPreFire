{
 "cells": [
  {
   "cell_type": "markdown",
   "id": "fb0dacf4",
   "metadata": {},
   "source": [
    "# Landsat Collection 2 downloader\n",
    "abolfazl.irani@eawag.ch\n",
    "\n",
    "The code is originally from Michael Brechbühler (eawag).\n",
    "\n",
    "This notebook uses the [landsatxplore](https://github.com/yannforget/landsatxplore) python package to download Landsat Collection 2 scenes directly from USGS.\n",
    "\n",
    "### Setup environment\n",
    "To setup a new environment (using conda):\n",
    "> conda create --name landsatxplore -c conda-forge python=3 notebook nb_conda_kernels geopandas hvplot cartopy geoviews\n",
    "\n",
    "To setup a new environment (using conda and environment.yml):\n",
    "> conda env create -n landsatxplore --file environment.yml\n",
    "\n",
    "### Imports"
   ]
  },
  {
   "cell_type": "code",
   "execution_count": 2,
   "id": "463ae57a",
   "metadata": {},
   "outputs": [
    {
     "data": {
      "text/html": [
       "<script type=\"esms-options\">{\"shimMode\": true}</script><style>*[data-root-id],\n",
       "*[data-root-id] > * {\n",
       "  box-sizing: border-box;\n",
       "  font-family: var(--jp-ui-font-family);\n",
       "  font-size: var(--jp-ui-font-size1);\n",
       "  color: var(--vscode-editor-foreground, var(--jp-ui-font-color1));\n",
       "}\n",
       "\n",
       "/* Override VSCode background color */\n",
       ".cell-output-ipywidget-background:has(\n",
       "    > .cell-output-ipywidget-background > .lm-Widget > *[data-root-id]\n",
       "  ),\n",
       ".cell-output-ipywidget-background:has(> .lm-Widget > *[data-root-id]) {\n",
       "  background-color: transparent !important;\n",
       "}\n",
       "</style>"
      ]
     },
     "metadata": {},
     "output_type": "display_data"
    },
    {
     "data": {
      "application/javascript": "(function(root) {\n  function now() {\n    return new Date();\n  }\n\n  const force = true;\n  const py_version = '3.5.2'.replace('rc', '-rc.').replace('.dev', '-dev.');\n  const reloading = false;\n  const Bokeh = root.Bokeh;\n\n  // Set a timeout for this load but only if we are not already initializing\n  if (typeof (root._bokeh_timeout) === \"undefined\" || (force || !root._bokeh_is_initializing)) {\n    root._bokeh_timeout = Date.now() + 5000;\n    root._bokeh_failed_load = false;\n  }\n\n  function run_callbacks() {\n    try {\n      root._bokeh_onload_callbacks.forEach(function(callback) {\n        if (callback != null)\n          callback();\n      });\n    } finally {\n      delete root._bokeh_onload_callbacks;\n    }\n    console.debug(\"Bokeh: all callbacks have finished\");\n  }\n\n  function load_libs(css_urls, js_urls, js_modules, js_exports, callback) {\n    if (css_urls == null) css_urls = [];\n    if (js_urls == null) js_urls = [];\n    if (js_modules == null) js_modules = [];\n    if (js_exports == null) js_exports = {};\n\n    root._bokeh_onload_callbacks.push(callback);\n\n    if (root._bokeh_is_loading > 0) {\n      // Don't load bokeh if it is still initializing\n      console.debug(\"Bokeh: BokehJS is being loaded, scheduling callback at\", now());\n      return null;\n    } else if (js_urls.length === 0 && js_modules.length === 0 && Object.keys(js_exports).length === 0) {\n      // There is nothing to load\n      run_callbacks();\n      return null;\n    }\n\n    function on_load() {\n      root._bokeh_is_loading--;\n      if (root._bokeh_is_loading === 0) {\n        console.debug(\"Bokeh: all BokehJS libraries/stylesheets loaded\");\n        run_callbacks()\n      }\n    }\n    window._bokeh_on_load = on_load\n\n    function on_error(e) {\n      const src_el = e.srcElement\n      console.error(\"failed to load \" + (src_el.href || src_el.src));\n    }\n\n    const skip = [];\n    if (window.requirejs) {\n      window.requirejs.config({'packages': {}, 'paths': {}, 'shim': {}});\n      root._bokeh_is_loading = css_urls.length + 0;\n    } else {\n      root._bokeh_is_loading = css_urls.length + js_urls.length + js_modules.length + Object.keys(js_exports).length;\n    }\n\n    const existing_stylesheets = []\n    const links = document.getElementsByTagName('link')\n    for (let i = 0; i < links.length; i++) {\n      const link = links[i]\n      if (link.href != null) {\n        existing_stylesheets.push(link.href)\n      }\n    }\n    for (let i = 0; i < css_urls.length; i++) {\n      const url = css_urls[i];\n      const escaped = encodeURI(url)\n      if (existing_stylesheets.indexOf(escaped) !== -1) {\n        on_load()\n        continue;\n      }\n      const element = document.createElement(\"link\");\n      element.onload = on_load;\n      element.onerror = on_error;\n      element.rel = \"stylesheet\";\n      element.type = \"text/css\";\n      element.href = url;\n      console.debug(\"Bokeh: injecting link tag for BokehJS stylesheet: \", url);\n      document.body.appendChild(element);\n    }    var existing_scripts = []\n    const scripts = document.getElementsByTagName('script')\n    for (let i = 0; i < scripts.length; i++) {\n      var script = scripts[i]\n      if (script.src != null) {\n        existing_scripts.push(script.src)\n      }\n    }\n    for (let i = 0; i < js_urls.length; i++) {\n      const url = js_urls[i];\n      const escaped = encodeURI(url)\n      if (skip.indexOf(escaped) !== -1 || existing_scripts.indexOf(escaped) !== -1) {\n        if (!window.requirejs) {\n          on_load();\n        }\n        continue;\n      }\n      const element = document.createElement('script');\n      element.onload = on_load;\n      element.onerror = on_error;\n      element.async = false;\n      element.src = url;\n      console.debug(\"Bokeh: injecting script tag for BokehJS library: \", url);\n      document.head.appendChild(element);\n    }\n    for (let i = 0; i < js_modules.length; i++) {\n      const url = js_modules[i];\n      const escaped = encodeURI(url)\n      if (skip.indexOf(escaped) !== -1 || existing_scripts.indexOf(escaped) !== -1) {\n        if (!window.requirejs) {\n          on_load();\n        }\n        continue;\n      }\n      var element = document.createElement('script');\n      element.onload = on_load;\n      element.onerror = on_error;\n      element.async = false;\n      element.src = url;\n      element.type = \"module\";\n      console.debug(\"Bokeh: injecting script tag for BokehJS library: \", url);\n      document.head.appendChild(element);\n    }\n    for (const name in js_exports) {\n      const url = js_exports[name];\n      const escaped = encodeURI(url)\n      if (skip.indexOf(escaped) >= 0 || root[name] != null) {\n        if (!window.requirejs) {\n          on_load();\n        }\n        continue;\n      }\n      var element = document.createElement('script');\n      element.onerror = on_error;\n      element.async = false;\n      element.type = \"module\";\n      console.debug(\"Bokeh: injecting script tag for BokehJS library: \", url);\n      element.textContent = `\n      import ${name} from \"${url}\"\n      window.${name} = ${name}\n      window._bokeh_on_load()\n      `\n      document.head.appendChild(element);\n    }\n    if (!js_urls.length && !js_modules.length) {\n      on_load()\n    }\n  };\n\n  function inject_raw_css(css) {\n    const element = document.createElement(\"style\");\n    element.appendChild(document.createTextNode(css));\n    document.body.appendChild(element);\n  }\n\n  const js_urls = [\"https://cdn.holoviz.org/panel/1.5.3/dist/bundled/reactiveesm/es-module-shims@^1.10.0/dist/es-module-shims.min.js\", \"https://cdn.bokeh.org/bokeh/release/bokeh-3.5.2.min.js\", \"https://cdn.bokeh.org/bokeh/release/bokeh-gl-3.5.2.min.js\", \"https://cdn.bokeh.org/bokeh/release/bokeh-widgets-3.5.2.min.js\", \"https://cdn.bokeh.org/bokeh/release/bokeh-tables-3.5.2.min.js\", \"https://cdn.holoviz.org/panel/1.5.3/dist/panel.min.js\"];\n  const js_modules = [];\n  const js_exports = {};\n  const css_urls = [];\n  const inline_js = [    function(Bokeh) {\n      Bokeh.set_log_level(\"info\");\n    },\nfunction(Bokeh) {} // ensure no trailing comma for IE\n  ];\n\n  function run_inline_js() {\n    if ((root.Bokeh !== undefined) || (force === true)) {\n      for (let i = 0; i < inline_js.length; i++) {\n        try {\n          inline_js[i].call(root, root.Bokeh);\n        } catch(e) {\n          if (!reloading) {\n            throw e;\n          }\n        }\n      }\n      // Cache old bokeh versions\n      if (Bokeh != undefined && !reloading) {\n        var NewBokeh = root.Bokeh;\n        if (Bokeh.versions === undefined) {\n          Bokeh.versions = new Map();\n        }\n        if (NewBokeh.version !== Bokeh.version) {\n          Bokeh.versions.set(NewBokeh.version, NewBokeh)\n        }\n        root.Bokeh = Bokeh;\n      }\n    } else if (Date.now() < root._bokeh_timeout) {\n      setTimeout(run_inline_js, 100);\n    } else if (!root._bokeh_failed_load) {\n      console.log(\"Bokeh: BokehJS failed to load within specified timeout.\");\n      root._bokeh_failed_load = true;\n    }\n    root._bokeh_is_initializing = false\n  }\n\n  function load_or_wait() {\n    // Implement a backoff loop that tries to ensure we do not load multiple\n    // versions of Bokeh and its dependencies at the same time.\n    // In recent versions we use the root._bokeh_is_initializing flag\n    // to determine whether there is an ongoing attempt to initialize\n    // bokeh, however for backward compatibility we also try to ensure\n    // that we do not start loading a newer (Panel>=1.0 and Bokeh>3) version\n    // before older versions are fully initialized.\n    if (root._bokeh_is_initializing && Date.now() > root._bokeh_timeout) {\n      // If the timeout and bokeh was not successfully loaded we reset\n      // everything and try loading again\n      root._bokeh_timeout = Date.now() + 5000;\n      root._bokeh_is_initializing = false;\n      root._bokeh_onload_callbacks = undefined;\n      root._bokeh_is_loading = 0\n      console.log(\"Bokeh: BokehJS was loaded multiple times but one version failed to initialize.\");\n      load_or_wait();\n    } else if (root._bokeh_is_initializing || (typeof root._bokeh_is_initializing === \"undefined\" && root._bokeh_onload_callbacks !== undefined)) {\n      setTimeout(load_or_wait, 100);\n    } else {\n      root._bokeh_is_initializing = true\n      root._bokeh_onload_callbacks = []\n      const bokeh_loaded = root.Bokeh != null && (root.Bokeh.version === py_version || (root.Bokeh.versions !== undefined && root.Bokeh.versions.has(py_version)));\n      if (!reloading && !bokeh_loaded) {\n        if (root.Bokeh) {\n          root.Bokeh = undefined;\n        }\n        console.debug(\"Bokeh: BokehJS not loaded, scheduling load and callback at\", now());\n      }\n      load_libs(css_urls, js_urls, js_modules, js_exports, function() {\n        console.debug(\"Bokeh: BokehJS plotting callback run at\", now());\n        run_inline_js();\n      });\n    }\n  }\n  // Give older versions of the autoload script a head-start to ensure\n  // they initialize before we start loading newer version.\n  setTimeout(load_or_wait, 100)\n}(window));",
      "application/vnd.holoviews_load.v0+json": ""
     },
     "metadata": {},
     "output_type": "display_data"
    },
    {
     "data": {
      "application/javascript": "\nif ((window.PyViz === undefined) || (window.PyViz instanceof HTMLElement)) {\n  window.PyViz = {comms: {}, comm_status:{}, kernels:{}, receivers: {}, plot_index: []}\n}\n\n\n    function JupyterCommManager() {\n    }\n\n    JupyterCommManager.prototype.register_target = function(plot_id, comm_id, msg_handler) {\n      if (window.comm_manager || ((window.Jupyter !== undefined) && (Jupyter.notebook.kernel != null))) {\n        var comm_manager = window.comm_manager || Jupyter.notebook.kernel.comm_manager;\n        comm_manager.register_target(comm_id, function(comm) {\n          comm.on_msg(msg_handler);\n        });\n      } else if ((plot_id in window.PyViz.kernels) && (window.PyViz.kernels[plot_id])) {\n        window.PyViz.kernels[plot_id].registerCommTarget(comm_id, function(comm) {\n          comm.onMsg = msg_handler;\n        });\n      } else if (typeof google != 'undefined' && google.colab.kernel != null) {\n        google.colab.kernel.comms.registerTarget(comm_id, (comm) => {\n          var messages = comm.messages[Symbol.asyncIterator]();\n          function processIteratorResult(result) {\n            var message = result.value;\n            console.log(message)\n            var content = {data: message.data, comm_id};\n            var buffers = []\n            for (var buffer of message.buffers || []) {\n              buffers.push(new DataView(buffer))\n            }\n            var metadata = message.metadata || {};\n            var msg = {content, buffers, metadata}\n            msg_handler(msg);\n            return messages.next().then(processIteratorResult);\n          }\n          return messages.next().then(processIteratorResult);\n        })\n      }\n    }\n\n    JupyterCommManager.prototype.get_client_comm = function(plot_id, comm_id, msg_handler) {\n      if (comm_id in window.PyViz.comms) {\n        return window.PyViz.comms[comm_id];\n      } else if (window.comm_manager || ((window.Jupyter !== undefined) && (Jupyter.notebook.kernel != null))) {\n        var comm_manager = window.comm_manager || Jupyter.notebook.kernel.comm_manager;\n        var comm = comm_manager.new_comm(comm_id, {}, {}, {}, comm_id);\n        if (msg_handler) {\n          comm.on_msg(msg_handler);\n        }\n      } else if ((plot_id in window.PyViz.kernels) && (window.PyViz.kernels[plot_id])) {\n        var comm = window.PyViz.kernels[plot_id].connectToComm(comm_id);\n        comm.open();\n        if (msg_handler) {\n          comm.onMsg = msg_handler;\n        }\n      } else if (typeof google != 'undefined' && google.colab.kernel != null) {\n        var comm_promise = google.colab.kernel.comms.open(comm_id)\n        comm_promise.then((comm) => {\n          window.PyViz.comms[comm_id] = comm;\n          if (msg_handler) {\n            var messages = comm.messages[Symbol.asyncIterator]();\n            function processIteratorResult(result) {\n              var message = result.value;\n              var content = {data: message.data};\n              var metadata = message.metadata || {comm_id};\n              var msg = {content, metadata}\n              msg_handler(msg);\n              return messages.next().then(processIteratorResult);\n            }\n            return messages.next().then(processIteratorResult);\n          }\n        }) \n        var sendClosure = (data, metadata, buffers, disposeOnDone) => {\n          return comm_promise.then((comm) => {\n            comm.send(data, metadata, buffers, disposeOnDone);\n          });\n        };\n        var comm = {\n          send: sendClosure\n        };\n      }\n      window.PyViz.comms[comm_id] = comm;\n      return comm;\n    }\n    window.PyViz.comm_manager = new JupyterCommManager();\n    \n\n\nvar JS_MIME_TYPE = 'application/javascript';\nvar HTML_MIME_TYPE = 'text/html';\nvar EXEC_MIME_TYPE = 'application/vnd.holoviews_exec.v0+json';\nvar CLASS_NAME = 'output';\n\n/**\n * Render data to the DOM node\n */\nfunction render(props, node) {\n  var div = document.createElement(\"div\");\n  var script = document.createElement(\"script\");\n  node.appendChild(div);\n  node.appendChild(script);\n}\n\n/**\n * Handle when a new output is added\n */\nfunction handle_add_output(event, handle) {\n  var output_area = handle.output_area;\n  var output = handle.output;\n  if ((output.data == undefined) || (!output.data.hasOwnProperty(EXEC_MIME_TYPE))) {\n    return\n  }\n  var id = output.metadata[EXEC_MIME_TYPE][\"id\"];\n  var toinsert = output_area.element.find(\".\" + CLASS_NAME.split(' ')[0]);\n  if (id !== undefined) {\n    var nchildren = toinsert.length;\n    var html_node = toinsert[nchildren-1].children[0];\n    html_node.innerHTML = output.data[HTML_MIME_TYPE];\n    var scripts = [];\n    var nodelist = html_node.querySelectorAll(\"script\");\n    for (var i in nodelist) {\n      if (nodelist.hasOwnProperty(i)) {\n        scripts.push(nodelist[i])\n      }\n    }\n\n    scripts.forEach( function (oldScript) {\n      var newScript = document.createElement(\"script\");\n      var attrs = [];\n      var nodemap = oldScript.attributes;\n      for (var j in nodemap) {\n        if (nodemap.hasOwnProperty(j)) {\n          attrs.push(nodemap[j])\n        }\n      }\n      attrs.forEach(function(attr) { newScript.setAttribute(attr.name, attr.value) });\n      newScript.appendChild(document.createTextNode(oldScript.innerHTML));\n      oldScript.parentNode.replaceChild(newScript, oldScript);\n    });\n    if (JS_MIME_TYPE in output.data) {\n      toinsert[nchildren-1].children[1].textContent = output.data[JS_MIME_TYPE];\n    }\n    output_area._hv_plot_id = id;\n    if ((window.Bokeh !== undefined) && (id in Bokeh.index)) {\n      window.PyViz.plot_index[id] = Bokeh.index[id];\n    } else {\n      window.PyViz.plot_index[id] = null;\n    }\n  } else if (output.metadata[EXEC_MIME_TYPE][\"server_id\"] !== undefined) {\n    var bk_div = document.createElement(\"div\");\n    bk_div.innerHTML = output.data[HTML_MIME_TYPE];\n    var script_attrs = bk_div.children[0].attributes;\n    for (var i = 0; i < script_attrs.length; i++) {\n      toinsert[toinsert.length - 1].childNodes[1].setAttribute(script_attrs[i].name, script_attrs[i].value);\n    }\n    // store reference to server id on output_area\n    output_area._bokeh_server_id = output.metadata[EXEC_MIME_TYPE][\"server_id\"];\n  }\n}\n\n/**\n * Handle when an output is cleared or removed\n */\nfunction handle_clear_output(event, handle) {\n  var id = handle.cell.output_area._hv_plot_id;\n  var server_id = handle.cell.output_area._bokeh_server_id;\n  if (((id === undefined) || !(id in PyViz.plot_index)) && (server_id !== undefined)) { return; }\n  var comm = window.PyViz.comm_manager.get_client_comm(\"hv-extension-comm\", \"hv-extension-comm\", function () {});\n  if (server_id !== null) {\n    comm.send({event_type: 'server_delete', 'id': server_id});\n    return;\n  } else if (comm !== null) {\n    comm.send({event_type: 'delete', 'id': id});\n  }\n  delete PyViz.plot_index[id];\n  if ((window.Bokeh !== undefined) & (id in window.Bokeh.index)) {\n    var doc = window.Bokeh.index[id].model.document\n    doc.clear();\n    const i = window.Bokeh.documents.indexOf(doc);\n    if (i > -1) {\n      window.Bokeh.documents.splice(i, 1);\n    }\n  }\n}\n\n/**\n * Handle kernel restart event\n */\nfunction handle_kernel_cleanup(event, handle) {\n  delete PyViz.comms[\"hv-extension-comm\"];\n  window.PyViz.plot_index = {}\n}\n\n/**\n * Handle update_display_data messages\n */\nfunction handle_update_output(event, handle) {\n  handle_clear_output(event, {cell: {output_area: handle.output_area}})\n  handle_add_output(event, handle)\n}\n\nfunction register_renderer(events, OutputArea) {\n  function append_mime(data, metadata, element) {\n    // create a DOM node to render to\n    var toinsert = this.create_output_subarea(\n    metadata,\n    CLASS_NAME,\n    EXEC_MIME_TYPE\n    );\n    this.keyboard_manager.register_events(toinsert);\n    // Render to node\n    var props = {data: data, metadata: metadata[EXEC_MIME_TYPE]};\n    render(props, toinsert[0]);\n    element.append(toinsert);\n    return toinsert\n  }\n\n  events.on('output_added.OutputArea', handle_add_output);\n  events.on('output_updated.OutputArea', handle_update_output);\n  events.on('clear_output.CodeCell', handle_clear_output);\n  events.on('delete.Cell', handle_clear_output);\n  events.on('kernel_ready.Kernel', handle_kernel_cleanup);\n\n  OutputArea.prototype.register_mime_type(EXEC_MIME_TYPE, append_mime, {\n    safe: true,\n    index: 0\n  });\n}\n\nif (window.Jupyter !== undefined) {\n  try {\n    var events = require('base/js/events');\n    var OutputArea = require('notebook/js/outputarea').OutputArea;\n    if (OutputArea.prototype.mime_types().indexOf(EXEC_MIME_TYPE) == -1) {\n      register_renderer(events, OutputArea);\n    }\n  } catch(err) {\n  }\n}\n",
      "application/vnd.holoviews_load.v0+json": ""
     },
     "metadata": {},
     "output_type": "display_data"
    },
    {
     "data": {
      "application/vnd.holoviews_exec.v0+json": "",
      "text/html": [
       "<div id='96e98ee1-4a01-4fce-8ced-b77da68a27e6'>\n",
       "  <div id=\"fa817164-58c3-4b4d-b4a0-8a06cd1bda45\" data-root-id=\"96e98ee1-4a01-4fce-8ced-b77da68a27e6\" style=\"display: contents;\"></div>\n",
       "</div>\n",
       "<script type=\"application/javascript\">(function(root) {\n",
       "  var docs_json = {\"a54e8741-7892-4993-a4fc-71e93f41469e\":{\"version\":\"3.5.2\",\"title\":\"Bokeh Application\",\"roots\":[{\"type\":\"object\",\"name\":\"panel.models.browser.BrowserInfo\",\"id\":\"96e98ee1-4a01-4fce-8ced-b77da68a27e6\"},{\"type\":\"object\",\"name\":\"panel.models.comm_manager.CommManager\",\"id\":\"8b3de558-1ee9-4f8c-b5ae-dff197bcc0f0\",\"attributes\":{\"plot_id\":\"96e98ee1-4a01-4fce-8ced-b77da68a27e6\",\"comm_id\":\"074c4a31a4c84d878dce584a31946201\",\"client_comm_id\":\"77ac3e32c85f4be78f19da9739099d6b\"}}],\"defs\":[{\"type\":\"model\",\"name\":\"ReactiveHTML1\"},{\"type\":\"model\",\"name\":\"FlexBox1\",\"properties\":[{\"name\":\"align_content\",\"kind\":\"Any\",\"default\":\"flex-start\"},{\"name\":\"align_items\",\"kind\":\"Any\",\"default\":\"flex-start\"},{\"name\":\"flex_direction\",\"kind\":\"Any\",\"default\":\"row\"},{\"name\":\"flex_wrap\",\"kind\":\"Any\",\"default\":\"wrap\"},{\"name\":\"gap\",\"kind\":\"Any\",\"default\":\"\"},{\"name\":\"justify_content\",\"kind\":\"Any\",\"default\":\"flex-start\"}]},{\"type\":\"model\",\"name\":\"FloatPanel1\",\"properties\":[{\"name\":\"config\",\"kind\":\"Any\",\"default\":{\"type\":\"map\"}},{\"name\":\"contained\",\"kind\":\"Any\",\"default\":true},{\"name\":\"position\",\"kind\":\"Any\",\"default\":\"right-top\"},{\"name\":\"offsetx\",\"kind\":\"Any\",\"default\":null},{\"name\":\"offsety\",\"kind\":\"Any\",\"default\":null},{\"name\":\"theme\",\"kind\":\"Any\",\"default\":\"primary\"},{\"name\":\"status\",\"kind\":\"Any\",\"default\":\"normalized\"}]},{\"type\":\"model\",\"name\":\"GridStack1\",\"properties\":[{\"name\":\"mode\",\"kind\":\"Any\",\"default\":\"warn\"},{\"name\":\"ncols\",\"kind\":\"Any\",\"default\":null},{\"name\":\"nrows\",\"kind\":\"Any\",\"default\":null},{\"name\":\"allow_resize\",\"kind\":\"Any\",\"default\":true},{\"name\":\"allow_drag\",\"kind\":\"Any\",\"default\":true},{\"name\":\"state\",\"kind\":\"Any\",\"default\":[]}]},{\"type\":\"model\",\"name\":\"drag1\",\"properties\":[{\"name\":\"slider_width\",\"kind\":\"Any\",\"default\":5},{\"name\":\"slider_color\",\"kind\":\"Any\",\"default\":\"black\"},{\"name\":\"value\",\"kind\":\"Any\",\"default\":50}]},{\"type\":\"model\",\"name\":\"click1\",\"properties\":[{\"name\":\"terminal_output\",\"kind\":\"Any\",\"default\":\"\"},{\"name\":\"debug_name\",\"kind\":\"Any\",\"default\":\"\"},{\"name\":\"clears\",\"kind\":\"Any\",\"default\":0}]},{\"type\":\"model\",\"name\":\"FastWrapper1\",\"properties\":[{\"name\":\"object\",\"kind\":\"Any\",\"default\":null},{\"name\":\"style\",\"kind\":\"Any\",\"default\":null}]},{\"type\":\"model\",\"name\":\"NotificationAreaBase1\",\"properties\":[{\"name\":\"js_events\",\"kind\":\"Any\",\"default\":{\"type\":\"map\"}},{\"name\":\"position\",\"kind\":\"Any\",\"default\":\"bottom-right\"},{\"name\":\"_clear\",\"kind\":\"Any\",\"default\":0}]},{\"type\":\"model\",\"name\":\"NotificationArea1\",\"properties\":[{\"name\":\"js_events\",\"kind\":\"Any\",\"default\":{\"type\":\"map\"}},{\"name\":\"notifications\",\"kind\":\"Any\",\"default\":[]},{\"name\":\"position\",\"kind\":\"Any\",\"default\":\"bottom-right\"},{\"name\":\"_clear\",\"kind\":\"Any\",\"default\":0},{\"name\":\"types\",\"kind\":\"Any\",\"default\":[{\"type\":\"map\",\"entries\":[[\"type\",\"warning\"],[\"background\",\"#ffc107\"],[\"icon\",{\"type\":\"map\",\"entries\":[[\"className\",\"fas fa-exclamation-triangle\"],[\"tagName\",\"i\"],[\"color\",\"white\"]]}]]},{\"type\":\"map\",\"entries\":[[\"type\",\"info\"],[\"background\",\"#007bff\"],[\"icon\",{\"type\":\"map\",\"entries\":[[\"className\",\"fas fa-info-circle\"],[\"tagName\",\"i\"],[\"color\",\"white\"]]}]]}]}]},{\"type\":\"model\",\"name\":\"Notification\",\"properties\":[{\"name\":\"background\",\"kind\":\"Any\",\"default\":null},{\"name\":\"duration\",\"kind\":\"Any\",\"default\":3000},{\"name\":\"icon\",\"kind\":\"Any\",\"default\":null},{\"name\":\"message\",\"kind\":\"Any\",\"default\":\"\"},{\"name\":\"notification_type\",\"kind\":\"Any\",\"default\":null},{\"name\":\"_destroyed\",\"kind\":\"Any\",\"default\":false}]},{\"type\":\"model\",\"name\":\"TemplateActions1\",\"properties\":[{\"name\":\"open_modal\",\"kind\":\"Any\",\"default\":0},{\"name\":\"close_modal\",\"kind\":\"Any\",\"default\":0}]},{\"type\":\"model\",\"name\":\"BootstrapTemplateActions1\",\"properties\":[{\"name\":\"open_modal\",\"kind\":\"Any\",\"default\":0},{\"name\":\"close_modal\",\"kind\":\"Any\",\"default\":0}]},{\"type\":\"model\",\"name\":\"TemplateEditor1\",\"properties\":[{\"name\":\"layout\",\"kind\":\"Any\",\"default\":[]}]},{\"type\":\"model\",\"name\":\"MaterialTemplateActions1\",\"properties\":[{\"name\":\"open_modal\",\"kind\":\"Any\",\"default\":0},{\"name\":\"close_modal\",\"kind\":\"Any\",\"default\":0}]},{\"type\":\"model\",\"name\":\"ReactiveESM1\"},{\"type\":\"model\",\"name\":\"JSComponent1\"},{\"type\":\"model\",\"name\":\"ReactComponent1\"},{\"type\":\"model\",\"name\":\"AnyWidgetComponent1\"},{\"type\":\"model\",\"name\":\"request_value1\",\"properties\":[{\"name\":\"fill\",\"kind\":\"Any\",\"default\":\"none\"},{\"name\":\"_synced\",\"kind\":\"Any\",\"default\":null},{\"name\":\"_request_sync\",\"kind\":\"Any\",\"default\":0}]}]}};\n",
       "  var render_items = [{\"docid\":\"a54e8741-7892-4993-a4fc-71e93f41469e\",\"roots\":{\"96e98ee1-4a01-4fce-8ced-b77da68a27e6\":\"fa817164-58c3-4b4d-b4a0-8a06cd1bda45\"},\"root_ids\":[\"96e98ee1-4a01-4fce-8ced-b77da68a27e6\"]}];\n",
       "  var docs = Object.values(docs_json)\n",
       "  if (!docs) {\n",
       "    return\n",
       "  }\n",
       "  const py_version = docs[0].version.replace('rc', '-rc.').replace('.dev', '-dev.')\n",
       "  async function embed_document(root) {\n",
       "    var Bokeh = get_bokeh(root)\n",
       "    await Bokeh.embed.embed_items_notebook(docs_json, render_items);\n",
       "    for (const render_item of render_items) {\n",
       "      for (const root_id of render_item.root_ids) {\n",
       "\tconst id_el = document.getElementById(root_id)\n",
       "\tif (id_el.children.length && id_el.children[0].hasAttribute('data-root-id')) {\n",
       "\t  const root_el = id_el.children[0]\n",
       "\t  root_el.id = root_el.id + '-rendered'\n",
       "\t  for (const child of root_el.children) {\n",
       "            // Ensure JupyterLab does not capture keyboard shortcuts\n",
       "            // see: https://jupyterlab.readthedocs.io/en/4.1.x/extension/notebook.html#keyboard-interaction-model\n",
       "\t    child.setAttribute('data-lm-suppress-shortcuts', 'true')\n",
       "\t  }\n",
       "\t}\n",
       "      }\n",
       "    }\n",
       "  }\n",
       "  function get_bokeh(root) {\n",
       "    if (root.Bokeh === undefined) {\n",
       "      return null\n",
       "    } else if (root.Bokeh.version !== py_version) {\n",
       "      if (root.Bokeh.versions === undefined || !root.Bokeh.versions.has(py_version)) {\n",
       "\treturn null\n",
       "      }\n",
       "      return root.Bokeh.versions.get(py_version);\n",
       "    } else if (root.Bokeh.version === py_version) {\n",
       "      return root.Bokeh\n",
       "    }\n",
       "    return null\n",
       "  }\n",
       "  function is_loaded(root) {\n",
       "    var Bokeh = get_bokeh(root)\n",
       "    return (Bokeh != null && Bokeh.Panel !== undefined)\n",
       "  }\n",
       "  if (is_loaded(root)) {\n",
       "    embed_document(root);\n",
       "  } else {\n",
       "    var attempts = 0;\n",
       "    var timer = setInterval(function(root) {\n",
       "      if (is_loaded(root)) {\n",
       "        clearInterval(timer);\n",
       "        embed_document(root);\n",
       "      } else if (document.readyState == \"complete\") {\n",
       "        attempts++;\n",
       "        if (attempts > 200) {\n",
       "          clearInterval(timer);\n",
       "\t  var Bokeh = get_bokeh(root)\n",
       "\t  if (Bokeh == null || Bokeh.Panel == null) {\n",
       "            console.warn(\"Panel: ERROR: Unable to run Panel code because Bokeh or Panel library is missing\");\n",
       "\t  } else {\n",
       "\t    console.warn(\"Panel: WARNING: Attempting to render but not all required libraries could be resolved.\")\n",
       "\t    embed_document(root)\n",
       "\t  }\n",
       "        }\n",
       "      }\n",
       "    }, 25, root)\n",
       "  }\n",
       "})(window);</script>"
      ]
     },
     "metadata": {
      "application/vnd.holoviews_exec.v0+json": {
       "id": "96e98ee1-4a01-4fce-8ced-b77da68a27e6"
      }
     },
     "output_type": "display_data"
    }
   ],
   "source": [
    "import geopandas as gpd\n",
    "import pandas as pd\n",
    "import os\n",
    "import matplotlib.pyplot as plt\n",
    "import shapely\n",
    "import hvplot.pandas\n",
    "from tqdm import tqdm\n",
    "from pathlib import Path\n",
    "import tarfile\n",
    "from contextlib import closing\n",
    "\n",
    "import landsatxplore\n",
    "from landsatxplore.earthexplorer import EarthExplorer\n",
    "from landsatxplore.api import API"
   ]
  },
  {
   "cell_type": "markdown",
   "id": "026af66c-b2ae-414d-a80a-6449fca03028",
   "metadata": {},
   "source": [
    "## 1. Search query\n",
    "\n",
    "### USGS EROS credentials\n",
    "To allow queries and file downloads from the USGS EROS webserver a free account is necessary (https://ers.cr.usgs.gov/register)"
   ]
  },
  {
   "cell_type": "code",
   "execution_count": 3,
   "id": "012342ff",
   "metadata": {},
   "outputs": [],
   "source": [
    "# Your USGS  credentials\n",
    "\n",
    "username = \"nls_rtz_1\"\n",
    "password = \"b2XRiOz5Cmt9uYIfwtFq\""
   ]
  },
  {
   "cell_type": "markdown",
   "id": "12b96281-ceb1-4c2b-bc25-1c54e9e7a5a3",
   "metadata": {},
   "source": [
    "Now we can set the desired search parameters for our Landsat query. We also have to define which Landsat collection to use.\n",
    "\n",
    "| Dataset Name | Dataset ID |\n",
    "| :-- | -- |\n",
    "| Landsat 5 TM Collection 2 Level 1 | `landsat_tm_c2_l1` |\n",
    "| Landsat 5 TM Collection 2 Level 2 | `landsat_tm_c2_l2` |\n",
    "| Landsat 7 ETM+ Collection 2 Level 1 | `landsat_etm_c2_l1` |\n",
    "| Landsat 7 ETM+ Collection 2 Level 2 | `landsat_etm_c2_l2` |\n",
    "| Landsat 8 Collection 2 Level 1 | `landsat_ot_c2_l1` |\n",
    "| Landsat 8 Collection 2 Level 2 | `landsat_ot_c2_l2` |\n",
    "| Landsat 9 Collection 2 Level 1 | `landsat_ot_c2_l1` |\n",
    "| Landsat 9 Collection 2 Level 2 | `landsat_ot_c2_l2` |"
   ]
  },
  {
   "cell_type": "markdown",
   "id": "7a6fb9a2-9b08-4593-af02-8389e795cf93",
   "metadata": {},
   "source": [
    "### Search parameters"
   ]
  },
  {
   "cell_type": "code",
   "execution_count": 6,
   "id": "03d1da6a-19f8-4e83-a3f4-65ffb29cf75f",
   "metadata": {},
   "outputs": [],
   "source": [
    "# Search parameters\n",
    "# Load AOIs\n",
    "aois = gpd.read_file(\"../../data/feature_layers/aois_test.geojson\")\n",
    "\n",
    "bbox = tuple(list(aois.total_bounds)) # (lonmin, latmin, lonmax, latmax)\n",
    "\n",
    "months = [1,2,3,4,5,6,7,8,9,10,11,12]\n",
    "\n",
    "search_params = {\n",
    "    'dataset': 'landsat_ot_c2_l2',\n",
    "    'bbox': bbox, \n",
    "    'start_date': '2020-05-01',\n",
    "    'end_date': '2020-07-31',\n",
    "    'months': months,\n",
    "    'max_cloud_cover': 50,\n",
    "    'max_results': 100, # Defaults to 100 if not specified\n",
    "}"
   ]
  },
  {
   "cell_type": "markdown",
   "id": "e1c83637-3727-4268-9a78-7d7b3be1541b",
   "metadata": {},
   "source": [
    "### Plot ROI"
   ]
  },
  {
   "cell_type": "code",
   "execution_count": 7,
   "id": "961a276d",
   "metadata": {},
   "outputs": [
    {
     "data": {},
     "metadata": {},
     "output_type": "display_data"
    },
    {
     "data": {
      "application/vnd.holoviews_exec.v0+json": "",
      "text/html": [
       "<div id='4dd31912-f9d7-4d54-a1d7-4486b1cb3b6b'>\n",
       "  <div id=\"aa72266d-426e-4291-8401-1f39486a3543\" data-root-id=\"4dd31912-f9d7-4d54-a1d7-4486b1cb3b6b\" style=\"display: contents;\"></div>\n",
       "</div>\n",
       "<script type=\"application/javascript\">(function(root) {\n",
       "  var docs_json = {\"a5d3fabd-b30a-47ba-bb8a-7f8ee3e573cd\":{\"version\":\"3.5.2\",\"title\":\"Bokeh Application\",\"roots\":[{\"type\":\"object\",\"name\":\"Row\",\"id\":\"4dd31912-f9d7-4d54-a1d7-4486b1cb3b6b\",\"attributes\":{\"name\":\"Row00365\",\"tags\":[\"embedded\"],\"stylesheets\":[\"\\n:host(.pn-loading):before, .pn-loading:before {\\n  background-color: #c3c3c3;\\n  mask-size: auto calc(min(50%, 400px));\\n  -webkit-mask-size: auto calc(min(50%, 400px));\\n}\",{\"type\":\"object\",\"name\":\"ImportedStyleSheet\",\"id\":\"16979526-5cd8-408d-b2c1-c3aacadfe447\",\"attributes\":{\"url\":\"https://cdn.holoviz.org/panel/1.5.3/dist/css/loading.css\"}},{\"type\":\"object\",\"name\":\"ImportedStyleSheet\",\"id\":\"da6aa7a3-dc17-4a62-8f7e-bff040fcd544\",\"attributes\":{\"url\":\"https://cdn.holoviz.org/panel/1.5.3/dist/css/listpanel.css\"}},{\"type\":\"object\",\"name\":\"ImportedStyleSheet\",\"id\":\"422c598a-eeec-4ef5-99f2-20e247f5b5d2\",\"attributes\":{\"url\":\"https://cdn.holoviz.org/panel/1.5.3/dist/bundled/theme/default.css\"}},{\"type\":\"object\",\"name\":\"ImportedStyleSheet\",\"id\":\"f27b6da2-8db9-4876-bac8-8f21ccd5638b\",\"attributes\":{\"url\":\"https://cdn.holoviz.org/panel/1.5.3/dist/bundled/theme/native.css\"}}],\"margin\":0,\"sizing_mode\":\"stretch_width\",\"align\":\"start\",\"children\":[{\"type\":\"object\",\"name\":\"Spacer\",\"id\":\"80703c32-4469-4927-a64b-1deb0ffeefaa\",\"attributes\":{\"name\":\"HSpacer00369\",\"stylesheets\":[\"\\n:host(.pn-loading):before, .pn-loading:before {\\n  background-color: #c3c3c3;\\n  mask-size: auto calc(min(50%, 400px));\\n  -webkit-mask-size: auto calc(min(50%, 400px));\\n}\",{\"id\":\"16979526-5cd8-408d-b2c1-c3aacadfe447\"},{\"id\":\"422c598a-eeec-4ef5-99f2-20e247f5b5d2\"},{\"id\":\"f27b6da2-8db9-4876-bac8-8f21ccd5638b\"}],\"margin\":0,\"sizing_mode\":\"stretch_width\",\"align\":\"start\"}},{\"type\":\"object\",\"name\":\"Figure\",\"id\":\"35ff714c-b8c3-45f2-bebf-208203760354\",\"attributes\":{\"width\":null,\"height\":null,\"margin\":[5,10],\"sizing_mode\":\"fixed\",\"align\":\"start\",\"x_range\":{\"type\":\"object\",\"name\":\"Range1d\",\"id\":\"5cf12611-73f3-4efa-a1ec-f6d0b68a4095\",\"attributes\":{\"name\":\"Longitude\",\"tags\":[[[\"Longitude\",null]],[]],\"start\":16020944.831705641,\"end\":16563628.757388046,\"reset_start\":16020944.831705641,\"reset_end\":16563628.757388046,\"min_interval\":5}},\"y_range\":{\"type\":\"object\",\"name\":\"Range1d\",\"id\":\"37482d45-ba3b-4201-9cc5-42aa12c1374f\",\"attributes\":{\"name\":\"Latitude\",\"tags\":[[[\"Latitude\",null]],{\"type\":\"map\",\"entries\":[[\"invert_yaxis\",false],[\"autorange\",false]]}],\"start\":11124484.42380207,\"end\":11712341.854568005,\"reset_start\":11124484.42380207,\"reset_end\":11712341.854568005,\"min_interval\":5}},\"x_scale\":{\"type\":\"object\",\"name\":\"LinearScale\",\"id\":\"de7d19a2-509e-4701-ae10-06183779fbf4\"},\"y_scale\":{\"type\":\"object\",\"name\":\"LinearScale\",\"id\":\"975c5ebf-a585-4542-a98b-3aa6fce01843\"},\"title\":{\"type\":\"object\",\"name\":\"Title\",\"id\":\"ed4c7800-70ce-4440-b2c5-a7badbfee9dc\",\"attributes\":{\"text\":\"ROI bounding box\",\"text_color\":\"black\",\"text_font_size\":\"12pt\"}},\"renderers\":[{\"type\":\"object\",\"name\":\"TileRenderer\",\"id\":\"c63a5531-91d0-47d3-b83a-a4d56bdc28a3\",\"attributes\":{\"level\":\"underlay\",\"tile_source\":{\"type\":\"object\",\"name\":\"WMTSTileSource\",\"id\":\"ea0938ff-256e-49ad-8738-f800744c0331\",\"attributes\":{\"url\":\"https://c.tile.openstreetmap.org/{Z}/{X}/{Y}.png\",\"attribution\":\"&copy; <a href=\\\"https://www.openstreetmap.org/copyright\\\">OpenStreetMap</a> contributors\"}}}},{\"type\":\"object\",\"name\":\"GlyphRenderer\",\"id\":\"63c84aea-efea-4ddd-89fc-d5a67a41195d\",\"attributes\":{\"data_source\":{\"type\":\"object\",\"name\":\"ColumnDataSource\",\"id\":\"53f17372-d02f-4c32-8c3c-1d9557657024\",\"attributes\":{\"selected\":{\"type\":\"object\",\"name\":\"Selection\",\"id\":\"8cf9e288-b67d-466f-9166-3f69944050cb\",\"attributes\":{\"indices\":[],\"line_indices\":[]}},\"selection_policy\":{\"type\":\"object\",\"name\":\"UnionRenderers\",\"id\":\"4c62cb7f-349b-48b5-84a7-390580908d21\"},\"data\":{\"type\":\"map\",\"entries\":[[\"xs\",[[[{\"type\":\"ndarray\",\"array\":{\"type\":\"bytes\",\"data\":\"BPD4a92Cb0EE8Phr3YJvQfHq4EaSo25B8ergRpKjbkE=\"},\"shape\":[4],\"dtype\":\"float64\",\"order\":\"little\"}]]]],[\"ys\",[[[{\"type\":\"ndarray\",\"array\":{\"type\":\"bytes\",\"data\":\"DbXMBsxPZUFbtudC/z5mQVu250L/PmZBDbXMBsxPZUE=\"},\"shape\":[4],\"dtype\":\"float64\",\"order\":\"little\"}]]]]]}}},\"view\":{\"type\":\"object\",\"name\":\"CDSView\",\"id\":\"1884ad03-e6ee-4292-80f0-4e4ab4946b44\",\"attributes\":{\"filter\":{\"type\":\"object\",\"name\":\"AllIndices\",\"id\":\"7fc21982-a529-4d64-8877-957bf7827656\"}}},\"glyph\":{\"type\":\"object\",\"name\":\"MultiPolygons\",\"id\":\"71ea3e67-aecd-4e20-8df3-da2a7fb72406\",\"attributes\":{\"xs\":{\"type\":\"field\",\"field\":\"xs\"},\"ys\":{\"type\":\"field\",\"field\":\"ys\"},\"line_color\":{\"type\":\"value\",\"value\":\"red\"},\"fill_color\":{\"type\":\"value\",\"value\":\"red\"},\"fill_alpha\":{\"type\":\"value\",\"value\":0.2},\"hatch_color\":{\"type\":\"value\",\"value\":\"red\"}}},\"selection_glyph\":{\"type\":\"object\",\"name\":\"MultiPolygons\",\"id\":\"aea94769-e3ea-452d-8e1a-b63471a28399\",\"attributes\":{\"xs\":{\"type\":\"field\",\"field\":\"xs\"},\"ys\":{\"type\":\"field\",\"field\":\"ys\"},\"line_color\":{\"type\":\"value\",\"value\":\"red\"},\"line_alpha\":{\"type\":\"value\",\"value\":1.0},\"line_width\":{\"type\":\"value\",\"value\":1},\"line_join\":{\"type\":\"value\",\"value\":\"bevel\"},\"line_cap\":{\"type\":\"value\",\"value\":\"butt\"},\"line_dash\":{\"type\":\"value\",\"value\":[]},\"line_dash_offset\":{\"type\":\"value\",\"value\":0},\"fill_color\":{\"type\":\"value\",\"value\":\"red\"},\"fill_alpha\":{\"type\":\"value\",\"value\":0.2},\"hatch_color\":{\"type\":\"value\",\"value\":\"red\"},\"hatch_alpha\":{\"type\":\"value\",\"value\":1.0},\"hatch_scale\":{\"type\":\"value\",\"value\":12.0},\"hatch_pattern\":{\"type\":\"value\",\"value\":null},\"hatch_weight\":{\"type\":\"value\",\"value\":1.0}}},\"nonselection_glyph\":{\"type\":\"object\",\"name\":\"MultiPolygons\",\"id\":\"bbd8a360-a27f-4c1d-9c77-2fbf2766c602\",\"attributes\":{\"xs\":{\"type\":\"field\",\"field\":\"xs\"},\"ys\":{\"type\":\"field\",\"field\":\"ys\"},\"line_color\":{\"type\":\"value\",\"value\":\"red\"},\"line_alpha\":{\"type\":\"value\",\"value\":0.1},\"fill_color\":{\"type\":\"value\",\"value\":\"red\"},\"fill_alpha\":{\"type\":\"value\",\"value\":0.2},\"hatch_color\":{\"type\":\"value\",\"value\":\"red\"},\"hatch_alpha\":{\"type\":\"value\",\"value\":0.1}}},\"muted_glyph\":{\"type\":\"object\",\"name\":\"MultiPolygons\",\"id\":\"252debc9-8a16-4de4-8a87-2b9e72af25d1\",\"attributes\":{\"xs\":{\"type\":\"field\",\"field\":\"xs\"},\"ys\":{\"type\":\"field\",\"field\":\"ys\"},\"line_color\":{\"type\":\"value\",\"value\":\"red\"},\"line_alpha\":{\"type\":\"value\",\"value\":0.2},\"fill_color\":{\"type\":\"value\",\"value\":\"red\"},\"fill_alpha\":{\"type\":\"value\",\"value\":0.2},\"hatch_color\":{\"type\":\"value\",\"value\":\"red\"},\"hatch_alpha\":{\"type\":\"value\",\"value\":0.2}}}}}],\"toolbar\":{\"type\":\"object\",\"name\":\"Toolbar\",\"id\":\"4c23bae5-5d67-4fbf-8c03-de9c90e0b459\",\"attributes\":{\"tools\":[{\"type\":\"object\",\"name\":\"WheelZoomTool\",\"id\":\"073d4f01-b113-47dc-affc-063adaeab99c\",\"attributes\":{\"renderers\":\"auto\",\"zoom_on_axis\":false}},{\"type\":\"object\",\"name\":\"BoxZoomTool\",\"id\":\"557b3ac5-c53f-4877-a7ea-0b63f0ec00fb\",\"attributes\":{\"overlay\":{\"type\":\"object\",\"name\":\"BoxAnnotation\",\"id\":\"902f8a96-8ed1-405b-ba6d-99254151c344\",\"attributes\":{\"syncable\":false,\"line_color\":\"black\",\"line_alpha\":1.0,\"line_width\":2,\"line_dash\":[4,4],\"fill_color\":\"lightgrey\",\"fill_alpha\":0.5,\"level\":\"overlay\",\"visible\":false,\"left\":{\"type\":\"number\",\"value\":\"nan\"},\"right\":{\"type\":\"number\",\"value\":\"nan\"},\"top\":{\"type\":\"number\",\"value\":\"nan\"},\"bottom\":{\"type\":\"number\",\"value\":\"nan\"},\"left_units\":\"canvas\",\"right_units\":\"canvas\",\"top_units\":\"canvas\",\"bottom_units\":\"canvas\",\"handles\":{\"type\":\"object\",\"name\":\"BoxInteractionHandles\",\"id\":\"09de26cd-c91d-4c6d-b6e4-309acff79633\",\"attributes\":{\"all\":{\"type\":\"object\",\"name\":\"AreaVisuals\",\"id\":\"1a3f0963-3b15-4732-9911-6e343e7e2dc4\",\"attributes\":{\"fill_color\":\"white\",\"hover_fill_color\":\"lightgray\"}}}}}},\"match_aspect\":true}},{\"type\":\"object\",\"name\":\"PanTool\",\"id\":\"6250b10a-79e4-4c20-97cb-891c3f261c6d\"},{\"type\":\"object\",\"name\":\"ResetTool\",\"id\":\"7ef9cc7e-5279-4f2b-b330-1704417460b3\"}],\"active_drag\":{\"id\":\"6250b10a-79e4-4c20-97cb-891c3f261c6d\"}}},\"left\":[{\"type\":\"object\",\"name\":\"LinearAxis\",\"id\":\"ebcdde6c-9b96-4e11-8a00-fc1e53bf8b99\",\"attributes\":{\"ticker\":{\"type\":\"object\",\"name\":\"MercatorTicker\",\"id\":\"b584ff2b-4dc0-4051-9340-5cef8a716f9e\",\"attributes\":{\"mantissas\":[1,2,5],\"dimension\":\"lat\"}},\"formatter\":{\"type\":\"object\",\"name\":\"MercatorTickFormatter\",\"id\":\"3eded261-e45c-48e4-99f7-10589f62514b\",\"attributes\":{\"dimension\":\"lat\"}},\"axis_label\":\"Latitude\",\"major_label_policy\":{\"type\":\"object\",\"name\":\"AllLabels\",\"id\":\"635068bc-288e-454c-acf6-d43c71e8a516\"}}}],\"right\":[{\"type\":\"object\",\"name\":\"Legend\",\"id\":\"d6d021a1-f373-4a0d-9a1d-1755ae70af09\",\"attributes\":{\"location\":[0,0],\"click_policy\":\"mute\",\"items\":[{\"type\":\"object\",\"name\":\"LegendItem\",\"id\":\"922ef502-eb54-436c-a71e-352e44f3e815\",\"attributes\":{\"label\":{\"type\":\"value\",\"value\":\"ROI\"},\"renderers\":[{\"id\":\"63c84aea-efea-4ddd-89fc-d5a67a41195d\"}]}}]}}],\"below\":[{\"type\":\"object\",\"name\":\"LinearAxis\",\"id\":\"3a0b68c8-3432-43e4-a34b-e8c84d344530\",\"attributes\":{\"ticker\":{\"type\":\"object\",\"name\":\"MercatorTicker\",\"id\":\"814f50fc-0ca1-4169-89ce-d1334418f075\",\"attributes\":{\"mantissas\":[1,2,5],\"dimension\":\"lon\"}},\"formatter\":{\"type\":\"object\",\"name\":\"MercatorTickFormatter\",\"id\":\"d3bb15c3-11b7-4142-a713-c67c3dd521e2\",\"attributes\":{\"dimension\":\"lon\"}},\"axis_label\":\"Longitude\",\"major_label_policy\":{\"type\":\"object\",\"name\":\"AllLabels\",\"id\":\"2176961f-d307-40e4-8aee-be446cf7d3a6\"}}}],\"center\":[{\"type\":\"object\",\"name\":\"Grid\",\"id\":\"22ea918c-f649-4ac3-96e4-4f7a3eef8e88\",\"attributes\":{\"axis\":{\"id\":\"3a0b68c8-3432-43e4-a34b-e8c84d344530\"},\"grid_line_color\":null}},{\"type\":\"object\",\"name\":\"Grid\",\"id\":\"a23b7129-5cfd-4183-9de7-43d1ae0fba99\",\"attributes\":{\"dimension\":1,\"axis\":{\"id\":\"ebcdde6c-9b96-4e11-8a00-fc1e53bf8b99\"},\"grid_line_color\":null}}],\"frame_width\":276,\"frame_height\":300,\"min_border_top\":10,\"min_border_bottom\":10,\"min_border_left\":10,\"min_border_right\":10,\"output_backend\":\"webgl\",\"match_aspect\":true}},{\"type\":\"object\",\"name\":\"Spacer\",\"id\":\"39cacd61-a48a-4884-a62f-7c29fc31ca63\",\"attributes\":{\"name\":\"HSpacer00370\",\"stylesheets\":[\"\\n:host(.pn-loading):before, .pn-loading:before {\\n  background-color: #c3c3c3;\\n  mask-size: auto calc(min(50%, 400px));\\n  -webkit-mask-size: auto calc(min(50%, 400px));\\n}\",{\"id\":\"16979526-5cd8-408d-b2c1-c3aacadfe447\"},{\"id\":\"422c598a-eeec-4ef5-99f2-20e247f5b5d2\"},{\"id\":\"f27b6da2-8db9-4876-bac8-8f21ccd5638b\"}],\"margin\":0,\"sizing_mode\":\"stretch_width\",\"align\":\"start\"}}]}}],\"defs\":[{\"type\":\"model\",\"name\":\"ReactiveHTML1\"},{\"type\":\"model\",\"name\":\"FlexBox1\",\"properties\":[{\"name\":\"align_content\",\"kind\":\"Any\",\"default\":\"flex-start\"},{\"name\":\"align_items\",\"kind\":\"Any\",\"default\":\"flex-start\"},{\"name\":\"flex_direction\",\"kind\":\"Any\",\"default\":\"row\"},{\"name\":\"flex_wrap\",\"kind\":\"Any\",\"default\":\"wrap\"},{\"name\":\"gap\",\"kind\":\"Any\",\"default\":\"\"},{\"name\":\"justify_content\",\"kind\":\"Any\",\"default\":\"flex-start\"}]},{\"type\":\"model\",\"name\":\"FloatPanel1\",\"properties\":[{\"name\":\"config\",\"kind\":\"Any\",\"default\":{\"type\":\"map\"}},{\"name\":\"contained\",\"kind\":\"Any\",\"default\":true},{\"name\":\"position\",\"kind\":\"Any\",\"default\":\"right-top\"},{\"name\":\"offsetx\",\"kind\":\"Any\",\"default\":null},{\"name\":\"offsety\",\"kind\":\"Any\",\"default\":null},{\"name\":\"theme\",\"kind\":\"Any\",\"default\":\"primary\"},{\"name\":\"status\",\"kind\":\"Any\",\"default\":\"normalized\"}]},{\"type\":\"model\",\"name\":\"GridStack1\",\"properties\":[{\"name\":\"mode\",\"kind\":\"Any\",\"default\":\"warn\"},{\"name\":\"ncols\",\"kind\":\"Any\",\"default\":null},{\"name\":\"nrows\",\"kind\":\"Any\",\"default\":null},{\"name\":\"allow_resize\",\"kind\":\"Any\",\"default\":true},{\"name\":\"allow_drag\",\"kind\":\"Any\",\"default\":true},{\"name\":\"state\",\"kind\":\"Any\",\"default\":[]}]},{\"type\":\"model\",\"name\":\"drag1\",\"properties\":[{\"name\":\"slider_width\",\"kind\":\"Any\",\"default\":5},{\"name\":\"slider_color\",\"kind\":\"Any\",\"default\":\"black\"},{\"name\":\"value\",\"kind\":\"Any\",\"default\":50}]},{\"type\":\"model\",\"name\":\"click1\",\"properties\":[{\"name\":\"terminal_output\",\"kind\":\"Any\",\"default\":\"\"},{\"name\":\"debug_name\",\"kind\":\"Any\",\"default\":\"\"},{\"name\":\"clears\",\"kind\":\"Any\",\"default\":0}]},{\"type\":\"model\",\"name\":\"FastWrapper1\",\"properties\":[{\"name\":\"object\",\"kind\":\"Any\",\"default\":null},{\"name\":\"style\",\"kind\":\"Any\",\"default\":null}]},{\"type\":\"model\",\"name\":\"NotificationAreaBase1\",\"properties\":[{\"name\":\"js_events\",\"kind\":\"Any\",\"default\":{\"type\":\"map\"}},{\"name\":\"position\",\"kind\":\"Any\",\"default\":\"bottom-right\"},{\"name\":\"_clear\",\"kind\":\"Any\",\"default\":0}]},{\"type\":\"model\",\"name\":\"NotificationArea1\",\"properties\":[{\"name\":\"js_events\",\"kind\":\"Any\",\"default\":{\"type\":\"map\"}},{\"name\":\"notifications\",\"kind\":\"Any\",\"default\":[]},{\"name\":\"position\",\"kind\":\"Any\",\"default\":\"bottom-right\"},{\"name\":\"_clear\",\"kind\":\"Any\",\"default\":0},{\"name\":\"types\",\"kind\":\"Any\",\"default\":[{\"type\":\"map\",\"entries\":[[\"type\",\"warning\"],[\"background\",\"#ffc107\"],[\"icon\",{\"type\":\"map\",\"entries\":[[\"className\",\"fas fa-exclamation-triangle\"],[\"tagName\",\"i\"],[\"color\",\"white\"]]}]]},{\"type\":\"map\",\"entries\":[[\"type\",\"info\"],[\"background\",\"#007bff\"],[\"icon\",{\"type\":\"map\",\"entries\":[[\"className\",\"fas fa-info-circle\"],[\"tagName\",\"i\"],[\"color\",\"white\"]]}]]}]}]},{\"type\":\"model\",\"name\":\"Notification\",\"properties\":[{\"name\":\"background\",\"kind\":\"Any\",\"default\":null},{\"name\":\"duration\",\"kind\":\"Any\",\"default\":3000},{\"name\":\"icon\",\"kind\":\"Any\",\"default\":null},{\"name\":\"message\",\"kind\":\"Any\",\"default\":\"\"},{\"name\":\"notification_type\",\"kind\":\"Any\",\"default\":null},{\"name\":\"_destroyed\",\"kind\":\"Any\",\"default\":false}]},{\"type\":\"model\",\"name\":\"TemplateActions1\",\"properties\":[{\"name\":\"open_modal\",\"kind\":\"Any\",\"default\":0},{\"name\":\"close_modal\",\"kind\":\"Any\",\"default\":0}]},{\"type\":\"model\",\"name\":\"BootstrapTemplateActions1\",\"properties\":[{\"name\":\"open_modal\",\"kind\":\"Any\",\"default\":0},{\"name\":\"close_modal\",\"kind\":\"Any\",\"default\":0}]},{\"type\":\"model\",\"name\":\"TemplateEditor1\",\"properties\":[{\"name\":\"layout\",\"kind\":\"Any\",\"default\":[]}]},{\"type\":\"model\",\"name\":\"MaterialTemplateActions1\",\"properties\":[{\"name\":\"open_modal\",\"kind\":\"Any\",\"default\":0},{\"name\":\"close_modal\",\"kind\":\"Any\",\"default\":0}]},{\"type\":\"model\",\"name\":\"ReactiveESM1\"},{\"type\":\"model\",\"name\":\"JSComponent1\"},{\"type\":\"model\",\"name\":\"ReactComponent1\"},{\"type\":\"model\",\"name\":\"AnyWidgetComponent1\"},{\"type\":\"model\",\"name\":\"request_value1\",\"properties\":[{\"name\":\"fill\",\"kind\":\"Any\",\"default\":\"none\"},{\"name\":\"_synced\",\"kind\":\"Any\",\"default\":null},{\"name\":\"_request_sync\",\"kind\":\"Any\",\"default\":0}]}]}};\n",
       "  var render_items = [{\"docid\":\"a5d3fabd-b30a-47ba-bb8a-7f8ee3e573cd\",\"roots\":{\"4dd31912-f9d7-4d54-a1d7-4486b1cb3b6b\":\"aa72266d-426e-4291-8401-1f39486a3543\"},\"root_ids\":[\"4dd31912-f9d7-4d54-a1d7-4486b1cb3b6b\"]}];\n",
       "  var docs = Object.values(docs_json)\n",
       "  if (!docs) {\n",
       "    return\n",
       "  }\n",
       "  const py_version = docs[0].version.replace('rc', '-rc.').replace('.dev', '-dev.')\n",
       "  async function embed_document(root) {\n",
       "    var Bokeh = get_bokeh(root)\n",
       "    await Bokeh.embed.embed_items_notebook(docs_json, render_items);\n",
       "    for (const render_item of render_items) {\n",
       "      for (const root_id of render_item.root_ids) {\n",
       "\tconst id_el = document.getElementById(root_id)\n",
       "\tif (id_el.children.length && id_el.children[0].hasAttribute('data-root-id')) {\n",
       "\t  const root_el = id_el.children[0]\n",
       "\t  root_el.id = root_el.id + '-rendered'\n",
       "\t  for (const child of root_el.children) {\n",
       "            // Ensure JupyterLab does not capture keyboard shortcuts\n",
       "            // see: https://jupyterlab.readthedocs.io/en/4.1.x/extension/notebook.html#keyboard-interaction-model\n",
       "\t    child.setAttribute('data-lm-suppress-shortcuts', 'true')\n",
       "\t  }\n",
       "\t}\n",
       "      }\n",
       "    }\n",
       "  }\n",
       "  function get_bokeh(root) {\n",
       "    if (root.Bokeh === undefined) {\n",
       "      return null\n",
       "    } else if (root.Bokeh.version !== py_version) {\n",
       "      if (root.Bokeh.versions === undefined || !root.Bokeh.versions.has(py_version)) {\n",
       "\treturn null\n",
       "      }\n",
       "      return root.Bokeh.versions.get(py_version);\n",
       "    } else if (root.Bokeh.version === py_version) {\n",
       "      return root.Bokeh\n",
       "    }\n",
       "    return null\n",
       "  }\n",
       "  function is_loaded(root) {\n",
       "    var Bokeh = get_bokeh(root)\n",
       "    return (Bokeh != null && Bokeh.Panel !== undefined)\n",
       "  }\n",
       "  if (is_loaded(root)) {\n",
       "    embed_document(root);\n",
       "  } else {\n",
       "    var attempts = 0;\n",
       "    var timer = setInterval(function(root) {\n",
       "      if (is_loaded(root)) {\n",
       "        clearInterval(timer);\n",
       "        embed_document(root);\n",
       "      } else if (document.readyState == \"complete\") {\n",
       "        attempts++;\n",
       "        if (attempts > 200) {\n",
       "          clearInterval(timer);\n",
       "\t  var Bokeh = get_bokeh(root)\n",
       "\t  if (Bokeh == null || Bokeh.Panel == null) {\n",
       "            console.warn(\"Panel: ERROR: Unable to run Panel code because Bokeh or Panel library is missing\");\n",
       "\t  } else {\n",
       "\t    console.warn(\"Panel: WARNING: Attempting to render but not all required libraries could be resolved.\")\n",
       "\t    embed_document(root)\n",
       "\t  }\n",
       "        }\n",
       "      }\n",
       "    }, 25, root)\n",
       "  }\n",
       "})(window);</script>"
      ],
      "text/plain": [
       ":Overlay\n",
       "   .WMTS.I       :WMTS   [Longitude,Latitude]\n",
       "   .Polygons.ROI :Polygons   [Longitude,Latitude]"
      ]
     },
     "execution_count": 7,
     "metadata": {
      "application/vnd.holoviews_exec.v0+json": {
       "id": "4dd31912-f9d7-4d54-a1d7-4486b1cb3b6b"
      }
     },
     "output_type": "execute_result"
    }
   ],
   "source": [
    "# Plot bounding box on map\n",
    "bbox_poly = shapely.geometry.box(*bbox, ccw=True)\n",
    "df_bbox = gpd.GeoDataFrame([], geometry=[bbox_poly])\n",
    "\n",
    "plot_bbox = df_bbox.hvplot(title='ROI bounding box', geo=True, \n",
    "                           fill_alpha=0.2, color='red', line_color='red', \n",
    "                           #tiles='CartoLight'\n",
    "                           tiles='OSM', label='ROI'\n",
    "                          )\n",
    "\n",
    "plot_bbox"
   ]
  },
  {
   "cell_type": "markdown",
   "id": "8927f808-4f48-4f70-8d30-1bce4ee4928e",
   "metadata": {},
   "source": [
    "### Start search query"
   ]
  },
  {
   "cell_type": "code",
   "execution_count": 9,
   "id": "6395f81e",
   "metadata": {},
   "outputs": [
    {
     "data": {
      "text/html": [
       "<div>\n",
       "<style scoped>\n",
       "    .dataframe tbody tr th:only-of-type {\n",
       "        vertical-align: middle;\n",
       "    }\n",
       "\n",
       "    .dataframe tbody tr th {\n",
       "        vertical-align: top;\n",
       "    }\n",
       "\n",
       "    .dataframe thead th {\n",
       "        text-align: right;\n",
       "    }\n",
       "</style>\n",
       "<table border=\"1\" class=\"dataframe\">\n",
       "  <thead>\n",
       "    <tr style=\"text-align: right;\">\n",
       "      <th></th>\n",
       "      <th>display_id</th>\n",
       "      <th>wrs_path</th>\n",
       "      <th>wrs_row</th>\n",
       "      <th>satellite</th>\n",
       "      <th>cloud_cover</th>\n",
       "      <th>acquisition_date</th>\n",
       "      <th>tile</th>\n",
       "      <th>geometry</th>\n",
       "    </tr>\n",
       "  </thead>\n",
       "  <tbody>\n",
       "    <tr>\n",
       "      <th>0</th>\n",
       "      <td>LC08_L2SP_115010_20200726_20200908_02_T1</td>\n",
       "      <td>115</td>\n",
       "      <td>10</td>\n",
       "      <td>Landsat-8</td>\n",
       "      <td>50</td>\n",
       "      <td>2020-07-26</td>\n",
       "      <td>115/010</td>\n",
       "      <td>POLYGON ((145.32366 70.49442, 149.88550 69.736...</td>\n",
       "    </tr>\n",
       "    <tr>\n",
       "      <th>2</th>\n",
       "      <td>LC08_L2SP_117011_20200724_20200911_02_T1</td>\n",
       "      <td>117</td>\n",
       "      <td>11</td>\n",
       "      <td>Landsat-8</td>\n",
       "      <td>50</td>\n",
       "      <td>2020-07-24</td>\n",
       "      <td>117/011</td>\n",
       "      <td>POLYGON ((140.57727 69.15467, 144.91820 68.436...</td>\n",
       "    </tr>\n",
       "    <tr>\n",
       "      <th>1</th>\n",
       "      <td>LC08_L2SP_117010_20200724_20200910_02_T1</td>\n",
       "      <td>117</td>\n",
       "      <td>10</td>\n",
       "      <td>Landsat-8</td>\n",
       "      <td>31</td>\n",
       "      <td>2020-07-24</td>\n",
       "      <td>117/010</td>\n",
       "      <td>POLYGON ((142.23395 70.49485, 146.79596 69.736...</td>\n",
       "    </tr>\n",
       "    <tr>\n",
       "      <th>3</th>\n",
       "      <td>LC08_L2SP_119009_20200722_20200911_02_T1</td>\n",
       "      <td>119</td>\n",
       "      <td>9</td>\n",
       "      <td>Landsat-8</td>\n",
       "      <td>26</td>\n",
       "      <td>2020-07-22</td>\n",
       "      <td>119/009</td>\n",
       "      <td>POLYGON ((141.01866 71.81961, 145.81655 71.015...</td>\n",
       "    </tr>\n",
       "    <tr>\n",
       "      <th>4</th>\n",
       "      <td>LC08_L2SP_119010_20200722_20200911_02_T1</td>\n",
       "      <td>119</td>\n",
       "      <td>10</td>\n",
       "      <td>Landsat-8</td>\n",
       "      <td>17</td>\n",
       "      <td>2020-07-22</td>\n",
       "      <td>119/010</td>\n",
       "      <td>POLYGON ((139.14517 70.49492, 143.70700 69.736...</td>\n",
       "    </tr>\n",
       "  </tbody>\n",
       "</table>\n",
       "</div>"
      ],
      "text/plain": [
       "                                 display_id  wrs_path  wrs_row  satellite  \\\n",
       "0  LC08_L2SP_115010_20200726_20200908_02_T1       115       10  Landsat-8   \n",
       "2  LC08_L2SP_117011_20200724_20200911_02_T1       117       11  Landsat-8   \n",
       "1  LC08_L2SP_117010_20200724_20200910_02_T1       117       10  Landsat-8   \n",
       "3  LC08_L2SP_119009_20200722_20200911_02_T1       119        9  Landsat-8   \n",
       "4  LC08_L2SP_119010_20200722_20200911_02_T1       119       10  Landsat-8   \n",
       "\n",
       "   cloud_cover acquisition_date     tile  \\\n",
       "0           50       2020-07-26  115/010   \n",
       "2           50       2020-07-24  117/011   \n",
       "1           31       2020-07-24  117/010   \n",
       "3           26       2020-07-22  119/009   \n",
       "4           17       2020-07-22  119/010   \n",
       "\n",
       "                                            geometry  \n",
       "0  POLYGON ((145.32366 70.49442, 149.88550 69.736...  \n",
       "2  POLYGON ((140.57727 69.15467, 144.91820 68.436...  \n",
       "1  POLYGON ((142.23395 70.49485, 146.79596 69.736...  \n",
       "3  POLYGON ((141.01866 71.81961, 145.81655 71.015...  \n",
       "4  POLYGON ((139.14517 70.49492, 143.70700 69.736...  "
      ]
     },
     "execution_count": 9,
     "metadata": {},
     "output_type": "execute_result"
    }
   ],
   "source": [
    "# initialize a new API instance\n",
    "api = API(username, password)\n",
    "\n",
    "# search for Landsat 8-9 L2C2 scenes\n",
    "scenes = api.search(**search_params)\n",
    "\n",
    "# logout\n",
    "api.logout()\n",
    "\n",
    "# create a GeoDataFrame from the returned metadata\n",
    "df_scenes = pd.DataFrame(scenes)\n",
    "df_scenes = df_scenes[['display_id','wrs_path', 'wrs_row','satellite','cloud_cover','acquisition_date', 'spatial_coverage']]\n",
    "df_scenes.sort_values('acquisition_date', ascending=False, inplace=True)\n",
    "df_scenes['satellite'] = df_scenes.satellite.apply(lambda x: f'Landsat-{x}')\n",
    "df_scenes['tile'] = df_scenes.display_id.apply(lambda x: x.split('_')[2][:3]+'/'+x.split('_')[2][3:])\n",
    "gdf_scenes = gpd.GeoDataFrame(df_scenes.drop(columns='spatial_coverage'), geometry=df_scenes.spatial_coverage, crs='EPSG:4326')\n",
    "\n",
    "gdf_scenes.head()"
   ]
  },
  {
   "cell_type": "markdown",
   "id": "9ffee4c7-f690-49c7-9d21-b96d9805c098",
   "metadata": {},
   "source": [
    "### Plot available tiles over ROI"
   ]
  },
  {
   "cell_type": "code",
   "execution_count": 10,
   "id": "baa7a6d8",
   "metadata": {},
   "outputs": [
    {
     "name": "stderr",
     "output_type": "stream",
     "text": [
      "C:\\Users\\nrietze\\AppData\\Local\\Temp\\ipykernel_21808\\3331222002.py:2: UserWarning: Geometry is in a geographic CRS. Results from 'centroid' are likely incorrect. Use 'GeoSeries.to_crs()' to re-project geometries to a projected CRS before this operation.\n",
      "\n",
      "  gdf_labels = gdf_tiles.set_geometry(gdf_tiles.centroid)\n"
     ]
    },
    {
     "data": {},
     "metadata": {},
     "output_type": "display_data"
    },
    {
     "data": {
      "application/vnd.holoviews_exec.v0+json": "",
      "text/html": [
       "<div id='63c9bbb1-6dac-444b-b60e-79c1882148f7'>\n",
       "  <div id=\"f136153e-ca44-4f9a-afbb-718c5620afe3\" data-root-id=\"63c9bbb1-6dac-444b-b60e-79c1882148f7\" style=\"display: contents;\"></div>\n",
       "</div>\n",
       "<script type=\"application/javascript\">(function(root) {\n",
       "  var docs_json = {\"418c9492-4c05-4bea-b368-0e04cb01a71a\":{\"version\":\"3.5.2\",\"title\":\"Bokeh Application\",\"roots\":[{\"type\":\"object\",\"name\":\"Row\",\"id\":\"63c9bbb1-6dac-444b-b60e-79c1882148f7\",\"attributes\":{\"name\":\"Row00480\",\"tags\":[\"embedded\"],\"stylesheets\":[\"\\n:host(.pn-loading):before, .pn-loading:before {\\n  background-color: #c3c3c3;\\n  mask-size: auto calc(min(50%, 400px));\\n  -webkit-mask-size: auto calc(min(50%, 400px));\\n}\",{\"type\":\"object\",\"name\":\"ImportedStyleSheet\",\"id\":\"9622eb0f-7b59-4676-9008-a9a6d55d8665\",\"attributes\":{\"url\":\"https://cdn.holoviz.org/panel/1.5.3/dist/css/loading.css\"}},{\"type\":\"object\",\"name\":\"ImportedStyleSheet\",\"id\":\"f9d1d759-7419-4d42-9664-4a4931392e78\",\"attributes\":{\"url\":\"https://cdn.holoviz.org/panel/1.5.3/dist/css/listpanel.css\"}},{\"type\":\"object\",\"name\":\"ImportedStyleSheet\",\"id\":\"83a0bd64-4726-4f48-8f42-e2c86248a411\",\"attributes\":{\"url\":\"https://cdn.holoviz.org/panel/1.5.3/dist/bundled/theme/default.css\"}},{\"type\":\"object\",\"name\":\"ImportedStyleSheet\",\"id\":\"bb60c691-eaaa-4079-b8fe-b365e6dbd7d7\",\"attributes\":{\"url\":\"https://cdn.holoviz.org/panel/1.5.3/dist/bundled/theme/native.css\"}}],\"min_width\":700,\"margin\":0,\"sizing_mode\":\"stretch_width\",\"align\":\"start\",\"children\":[{\"type\":\"object\",\"name\":\"Spacer\",\"id\":\"98890373-9d80-4296-b8e1-f144cd1794c2\",\"attributes\":{\"name\":\"HSpacer00484\",\"stylesheets\":[\"\\n:host(.pn-loading):before, .pn-loading:before {\\n  background-color: #c3c3c3;\\n  mask-size: auto calc(min(50%, 400px));\\n  -webkit-mask-size: auto calc(min(50%, 400px));\\n}\",{\"id\":\"9622eb0f-7b59-4676-9008-a9a6d55d8665\"},{\"id\":\"83a0bd64-4726-4f48-8f42-e2c86248a411\"},{\"id\":\"bb60c691-eaaa-4079-b8fe-b365e6dbd7d7\"}],\"margin\":0,\"sizing_mode\":\"stretch_width\",\"align\":\"start\"}},{\"type\":\"object\",\"name\":\"Figure\",\"id\":\"ca882461-ded5-4a6e-89be-ebe578ad07ab\",\"attributes\":{\"width\":700,\"height\":800,\"margin\":[5,10],\"sizing_mode\":\"fixed\",\"align\":\"start\",\"x_range\":{\"type\":\"object\",\"name\":\"Range1d\",\"id\":\"29eabcde-e082-4f36-9688-afbe4da28f59\",\"attributes\":{\"name\":\"Longitude\",\"tags\":[[[\"Longitude\",null]],[]],\"start\":15117103.271052932,\"end\":17514152.723585118,\"reset_start\":15117103.271052932,\"reset_end\":17514152.723585118,\"min_interval\":5}},\"y_range\":{\"type\":\"object\",\"name\":\"Range1d\",\"id\":\"1d8b38c4-a250-4920-9c0f-74f1d7647918\",\"attributes\":{\"name\":\"Latitude\",\"tags\":[[[\"Latitude\",null]],{\"type\":\"map\",\"entries\":[[\"invert_yaxis\",false],[\"autorange\",false]]}],\"start\":10054708.018092405,\"end\":12794193.106700616,\"reset_start\":10054708.018092405,\"reset_end\":12794193.106700616,\"min_interval\":5}},\"x_scale\":{\"type\":\"object\",\"name\":\"LinearScale\",\"id\":\"1b7c6dd0-2672-4f43-b353-9281530dfc5e\"},\"y_scale\":{\"type\":\"object\",\"name\":\"LinearScale\",\"id\":\"ea49b594-50e6-4373-88e1-af0733ec9dda\"},\"title\":{\"type\":\"object\",\"name\":\"Title\",\"id\":\"ab884968-0c58-4357-bf58-d09c3cc510d8\",\"attributes\":{\"text\":\"Available tiles over ROI\",\"text_color\":\"black\",\"text_font_size\":\"12pt\"}},\"renderers\":[{\"type\":\"object\",\"name\":\"TileRenderer\",\"id\":\"be96872a-0b0e-4db4-86c4-8355aed49f89\",\"attributes\":{\"level\":\"underlay\",\"tile_source\":{\"type\":\"object\",\"name\":\"WMTSTileSource\",\"id\":\"b5305e0e-3834-4fc8-b9a4-eab1a95e437b\",\"attributes\":{\"url\":\"https://c.tile.openstreetmap.org/{Z}/{X}/{Y}.png\",\"attribution\":\"&copy; <a href=\\\"https://www.openstreetmap.org/copyright\\\">OpenStreetMap</a> contributors\"}}}},{\"type\":\"object\",\"name\":\"GlyphRenderer\",\"id\":\"b2a94da3-9156-410b-8740-d6bf2608e0f7\",\"attributes\":{\"data_source\":{\"type\":\"object\",\"name\":\"ColumnDataSource\",\"id\":\"b98dba99-8298-4b7e-9a57-7aa32533f9e0\",\"attributes\":{\"selected\":{\"type\":\"object\",\"name\":\"Selection\",\"id\":\"bf74c9a4-00dd-4d28-bcb1-7a572d253877\",\"attributes\":{\"indices\":[],\"line_indices\":[]}},\"selection_policy\":{\"type\":\"object\",\"name\":\"UnionRenderers\",\"id\":\"846e6003-fdc1-4757-be0a-c509f5a868f4\"},\"data\":{\"type\":\"map\",\"entries\":[[\"xs\",[[[{\"type\":\"ndarray\",\"array\":{\"type\":\"bytes\",\"data\":\"GQe3btCCb0GOxjpwZT1wQb74a+slg3BB5BcSHpz+b0E=\"},\"shape\":[4],\"dtype\":\"float64\",\"order\":\"little\"}]],[[{\"type\":\"ndarray\",\"array\":{\"type\":\"bytes\",\"data\":\"wSOdAsgob0HxtgZrXwpwQRxoDTtpSHBBE1PMqyaWb0E=\"},\"shape\":[4],\"dtype\":\"float64\",\"order\":\"little\"}]],[[{\"type\":\"ndarray\",\"array\":{\"type\":\"bytes\",\"data\":\"3rtANBkvb0HQT3fBkRNwQbwUsbJTWXBBI/Ksz+eqb0E=\"},\"shape\":[4],\"dtype\":\"float64\",\"order\":\"little\"}]],[[{\"type\":\"ndarray\",\"array\":{\"type\":\"bytes\",\"data\":\"R7mBfgvVbkEmYeEuEsFvQYRbC0WVHnBB/nEXKm9Cb0E=\"},\"shape\":[4],\"dtype\":\"float64\",\"order\":\"little\"}]],[[{\"type\":\"ndarray\",\"array\":{\"type\":\"bytes\",\"data\":\"XpuquLJAb0Gahs0MwyJwQVsvmiy9cXBB+V91Eh3Ob0E=\"},\"shape\":[4],\"dtype\":\"float64\",\"order\":\"little\"}]],[[{\"type\":\"ndarray\",\"array\":{\"type\":\"bytes\",\"data\":\"YfOaehnbbkHZhTExD9NvQXIXInpGL3BBjXQjheJWb0E=\"},\"shape\":[4],\"dtype\":\"float64\",\"order\":\"little\"}]],[[{\"type\":\"ndarray\",\"array\":{\"type\":\"bytes\",\"data\":\"kHMv+siAbkGqIftMzWxvQe/OpxDh6G9B4aJeoyfubkE=\"},\"shape\":[4],\"dtype\":\"float64\",\"order\":\"little\"}]],[[{\"type\":\"ndarray\",\"array\":{\"type\":\"bytes\",\"data\":\"wEk5VeHsbkH7RJC4ufFvQXpqeGvZR3BBZA6HY1F6b0E=\"},\"shape\":[4],\"dtype\":\"float64\",\"order\":\"little\"}]],[[{\"type\":\"ndarray\",\"array\":{\"type\":\"bytes\",\"data\":\"rlxPa/uGbkH+z8n1/H5vQaPYm/pABXBBFRYzsssCb0E=\"},\"shape\":[4],\"dtype\":\"float64\",\"order\":\"little\"}]],[[{\"type\":\"ndarray\",\"array\":{\"type\":\"bytes\",\"data\":\"cfwp9u4sbkG6yZQp7RhvQfmordIElW9BTR+BWlKabkE=\"},\"shape\":[4],\"dtype\":\"float64\",\"order\":\"little\"}]],[[{\"type\":\"ndarray\",\"array\":{\"type\":\"bytes\",\"data\":\"6sx6q2qZbkEMd8yxUJ5vQcEJxGQlHnBBrhRAZdwmb0E=\"},\"shape\":[4],\"dtype\":\"float64\",\"order\":\"little\"}]],[[{\"type\":\"ndarray\",\"array\":{\"type\":\"bytes\",\"data\":\"8YdmXCgzbkEuFJFwICtvQRBsmG2gtm9BdquIp/KubkE=\"},\"shape\":[4],\"dtype\":\"float64\",\"order\":\"little\"}]],[[{\"type\":\"ndarray\",\"array\":{\"type\":\"bytes\",\"data\":\"xtyhwxvZbUF+tmGHD8VuQURXs1EiQW9BwWk3LHlGbkE=\"},\"shape\":[4],\"dtype\":\"float64\",\"order\":\"little\"}]],[[{\"type\":\"ndarray\",\"array\":{\"type\":\"bytes\",\"data\":\"vOs8DKJFbkHxSu/uh0pvQTeWHIx+6G9BUeJzSxDTbkE=\"},\"shape\":[4],\"dtype\":\"float64\",\"order\":\"little\"}]],[[{\"type\":\"ndarray\",\"array\":{\"type\":\"bytes\",\"data\":\"v8UyrjHfbUFlJuwFQNduQXfPgX3DYm9BKWZgAgBbbkE=\"},\"shape\":[4],\"dtype\":\"float64\",\"order\":\"little\"}]],[[{\"type\":\"ndarray\",\"array\":{\"type\":\"bytes\",\"data\":\"ZLiNrRnxbUHvIwwD5PVuQX9DvBHak29BHBmGpYd+bkE=\"},\"shape\":[4],\"dtype\":\"float64\",\"order\":\"little\"}]],[[{\"type\":\"ndarray\",\"array\":{\"type\":\"bytes\",\"data\":\"xVQQL0SLbUFPnAfCOYNuQQW8ueu9Dm9BiJfXwxMHbkE=\"},\"shape\":[4],\"dtype\":\"float64\",\"order\":\"little\"}]],[[{\"type\":\"ndarray\",\"array\":{\"type\":\"bytes\",\"data\":\"K+N0VuucbUFAQhtnuqFuQav3Cb2wP29BLxjwv1gqbkE=\"},\"shape\":[4],\"dtype\":\"float64\",\"order\":\"little\"}]],[[{\"type\":\"ndarray\",\"array\":{\"type\":\"bytes\",\"data\":\"ryH8KO82bUELfEN19C5uQTTBg9Z1um5BVMiVH7uybUE=\"},\"shape\":[4],\"dtype\":\"float64\",\"order\":\"little\"}]]]],[\"ys\",[[[{\"type\":\"ndarray\",\"array\":{\"type\":\"bytes\",\"data\":\"6YixgztsZUH1EMuP/vJkQUKas8AH7WVB1NFEaih5ZkE=\"},\"shape\":[4],\"dtype\":\"float64\",\"order\":\"little\"}]],[[{\"type\":\"ndarray\",\"array\":{\"type\":\"bytes\",\"data\":\"fkk9mPqYZEFn7sJkBC1kQYb3EeMXHGVBkB1cXqyXZUE=\"},\"shape\":[4],\"dtype\":\"float64\",\"order\":\"little\"}]],[[{\"type\":\"ndarray\",\"array\":{\"type\":\"bytes\",\"data\":\"uuNkmUJsZUGJQTFS9fJkQdxxrvPy7GVBTzOWsyV5ZkE=\"},\"shape\":[4],\"dtype\":\"float64\",\"order\":\"little\"}]],[[{\"type\":\"ndarray\",\"array\":{\"type\":\"bytes\",\"data\":\"/4PHfweZZEHpAhLhAi1kQZXNo3YKHGVB43MRU6+XZUE=\"},\"shape\":[4],\"dtype\":\"float64\",\"order\":\"little\"}]],[[{\"type\":\"ndarray\",\"array\":{\"type\":\"bytes\",\"data\":\"QT8+/lpLZkGP3nziIsJlQVZbDpB7x2ZBU7nziLRnZ0E=\"},\"shape\":[4],\"dtype\":\"float64\",\"order\":\"little\"}]],[[{\"type\":\"ndarray\",\"array\":{\"type\":\"bytes\",\"data\":\"rIjoQitsZUFdPVfr9PJkQXXsvWIA7WVBydZS8Rl5ZkE=\"},\"shape\":[4],\"dtype\":\"float64\",\"order\":\"little\"}]],[[{\"type\":\"ndarray\",\"array\":{\"type\":\"bytes\",\"data\":\"z+v25vWYZEHD9pDD9ixkQdmyc7MAHGVBmzNBR5+XZUE=\"},\"shape\":[4],\"dtype\":\"float64\",\"order\":\"little\"}]],[[{\"type\":\"ndarray\",\"array\":{\"type\":\"bytes\",\"data\":\"vz5SWGBLZkH9F/VSHcJlQW7STkxyx2ZBm4TJ97ZnZ0E=\"},\"shape\":[4],\"dtype\":\"float64\",\"order\":\"little\"}]],[[{\"type\":\"ndarray\",\"array\":{\"type\":\"bytes\",\"data\":\"V0bSAz5sZUEqYb+G9vJkQdqm/Lf37GVBVhs/WCR5ZkE=\"},\"shape\":[4],\"dtype\":\"float64\",\"order\":\"little\"}]],[[{\"type\":\"ndarray\",\"array\":{\"type\":\"bytes\",\"data\":\"+wEqogGZZEENzyWAAi1kQbz6cOcMHGVBkB1cXqyXZUE=\"},\"shape\":[4],\"dtype\":\"float64\",\"order\":\"little\"}]],[[{\"type\":\"ndarray\",\"array\":{\"type\":\"bytes\",\"data\":\"GSlUmmpLZkFdHPR3HMJlQXVOahtox2ZBHhYx47lnZ0E=\"},\"shape\":[4],\"dtype\":\"float64\",\"order\":\"little\"}]],[[{\"type\":\"ndarray\",\"array\":{\"type\":\"bytes\",\"data\":\"avlxLj1sZUHZxlKUAvNkQYM4no0P7WVBVcwT8Cx5ZkE=\"},\"shape\":[4],\"dtype\":\"float64\",\"order\":\"little\"}]],[[{\"type\":\"ndarray\",\"array\":{\"type\":\"bytes\",\"data\":\"dlI5KvOYZEHL0pw6AC1kQXG9/aEUHGVBrnnzdKaXZUE=\"},\"shape\":[4],\"dtype\":\"float64\",\"order\":\"little\"}]],[[{\"type\":\"ndarray\",\"array\":{\"type\":\"bytes\",\"data\":\"wBmVJGZLZkE8vnIvG8JlQT0nAJJox2ZBUvwVgrVnZ0E=\"},\"shape\":[4],\"dtype\":\"float64\",\"order\":\"little\"}]],[[{\"type\":\"ndarray\",\"array\":{\"type\":\"bytes\",\"data\":\"0T19hEpsZUE87mH0/PJkQYiOXA387GVBv81rSy55ZkE=\"},\"shape\":[4],\"dtype\":\"float64\",\"order\":\"little\"}]],[[{\"type\":\"ndarray\",\"array\":{\"type\":\"bytes\",\"data\":\"h94JQ0hLZkGAOW18E8JlQXygByFux2ZBEMWXBKNnZ0E=\"},\"shape\":[4],\"dtype\":\"float64\",\"order\":\"little\"}]],[[{\"type\":\"ndarray\",\"array\":{\"type\":\"bytes\",\"data\":\"60JDGUBsZUENqwdiA/NkQapz29EN7WVBv81rSy55ZkE=\"},\"shape\":[4],\"dtype\":\"float64\",\"order\":\"little\"}]],[[{\"type\":\"ndarray\",\"array\":{\"type\":\"bytes\",\"data\":\"1n34hFJLZkEB53FUGsJlQc1Fezlzx2ZB8oJTQ6xnZ0E=\"},\"shape\":[4],\"dtype\":\"float64\",\"order\":\"little\"}]],[[{\"type\":\"ndarray\",\"array\":{\"type\":\"bytes\",\"data\":\"ZXUBGTtsZUGJQTFS9fJkQZST7Cb47GVBDIogiSJ5ZkE=\"},\"shape\":[4],\"dtype\":\"float64\",\"order\":\"little\"}]]]]]}}},\"view\":{\"type\":\"object\",\"name\":\"CDSView\",\"id\":\"808711f9-09ea-43b7-b4c1-837a54614821\",\"attributes\":{\"filter\":{\"type\":\"object\",\"name\":\"AllIndices\",\"id\":\"457f0b97-d244-4742-80cd-4c761be6fe35\"}}},\"glyph\":{\"type\":\"object\",\"name\":\"MultiPolygons\",\"id\":\"b45987e8-a600-429d-a8e3-a0f5bf8cdeae\",\"attributes\":{\"xs\":{\"type\":\"field\",\"field\":\"xs\"},\"ys\":{\"type\":\"field\",\"field\":\"ys\"},\"line_color\":{\"type\":\"value\",\"value\":\"blue\"},\"fill_color\":{\"type\":\"value\",\"value\":\"#30a2da\"},\"fill_alpha\":{\"type\":\"value\",\"value\":0.3},\"hatch_color\":{\"type\":\"value\",\"value\":\"#30a2da\"}}},\"selection_glyph\":{\"type\":\"object\",\"name\":\"MultiPolygons\",\"id\":\"83b9b24a-1be0-4ce4-95dd-e5ef713041e5\",\"attributes\":{\"xs\":{\"type\":\"field\",\"field\":\"xs\"},\"ys\":{\"type\":\"field\",\"field\":\"ys\"},\"line_color\":{\"type\":\"value\",\"value\":\"blue\"},\"line_alpha\":{\"type\":\"value\",\"value\":1.0},\"line_width\":{\"type\":\"value\",\"value\":1},\"line_join\":{\"type\":\"value\",\"value\":\"bevel\"},\"line_cap\":{\"type\":\"value\",\"value\":\"butt\"},\"line_dash\":{\"type\":\"value\",\"value\":[]},\"line_dash_offset\":{\"type\":\"value\",\"value\":0},\"fill_color\":{\"type\":\"value\",\"value\":\"#30a2da\"},\"fill_alpha\":{\"type\":\"value\",\"value\":0.3},\"hatch_color\":{\"type\":\"value\",\"value\":\"#30a2da\"},\"hatch_alpha\":{\"type\":\"value\",\"value\":1.0},\"hatch_scale\":{\"type\":\"value\",\"value\":12.0},\"hatch_pattern\":{\"type\":\"value\",\"value\":null},\"hatch_weight\":{\"type\":\"value\",\"value\":1.0}}},\"nonselection_glyph\":{\"type\":\"object\",\"name\":\"MultiPolygons\",\"id\":\"f42341c5-fd17-440a-8ec3-b2bfc477e162\",\"attributes\":{\"xs\":{\"type\":\"field\",\"field\":\"xs\"},\"ys\":{\"type\":\"field\",\"field\":\"ys\"},\"line_color\":{\"type\":\"value\",\"value\":\"blue\"},\"line_alpha\":{\"type\":\"value\",\"value\":0.1},\"fill_color\":{\"type\":\"value\",\"value\":\"#30a2da\"},\"fill_alpha\":{\"type\":\"value\",\"value\":0.3},\"hatch_color\":{\"type\":\"value\",\"value\":\"#30a2da\"},\"hatch_alpha\":{\"type\":\"value\",\"value\":0.1}}},\"muted_glyph\":{\"type\":\"object\",\"name\":\"MultiPolygons\",\"id\":\"04dd0764-ab0b-4849-8602-ab4695b6fd12\",\"attributes\":{\"xs\":{\"type\":\"field\",\"field\":\"xs\"},\"ys\":{\"type\":\"field\",\"field\":\"ys\"},\"line_color\":{\"type\":\"value\",\"value\":\"blue\"},\"line_alpha\":{\"type\":\"value\",\"value\":0.2},\"fill_color\":{\"type\":\"value\",\"value\":\"#30a2da\"},\"fill_alpha\":{\"type\":\"value\",\"value\":0.2},\"hatch_color\":{\"type\":\"value\",\"value\":\"#30a2da\"},\"hatch_alpha\":{\"type\":\"value\",\"value\":0.2}}}}},{\"type\":\"object\",\"name\":\"TileRenderer\",\"id\":\"5e9b3816-0900-4f4e-9cbb-74910847b8c9\",\"attributes\":{\"level\":\"underlay\",\"tile_source\":{\"type\":\"object\",\"name\":\"WMTSTileSource\",\"id\":\"ba6f8524-a504-4c0c-b975-93dc60ac2a93\",\"attributes\":{\"url\":\"https://c.tile.openstreetmap.org/{Z}/{X}/{Y}.png\",\"attribution\":\"&copy; <a href=\\\"https://www.openstreetmap.org/copyright\\\">OpenStreetMap</a> contributors\"}}}},{\"type\":\"object\",\"name\":\"GlyphRenderer\",\"id\":\"d88f28a2-779c-432c-87b7-9173e5549c02\",\"attributes\":{\"data_source\":{\"type\":\"object\",\"name\":\"ColumnDataSource\",\"id\":\"0f26563d-f53e-4c4b-a489-0cf69ab8cdc2\",\"attributes\":{\"selected\":{\"type\":\"object\",\"name\":\"Selection\",\"id\":\"62fa197e-d998-490c-ba6f-b98ba5c5fd07\",\"attributes\":{\"indices\":[],\"line_indices\":[]}},\"selection_policy\":{\"type\":\"object\",\"name\":\"UnionRenderers\",\"id\":\"eaad5d46-1110-42b4-b223-315a10e2f9be\"},\"data\":{\"type\":\"map\",\"entries\":[[\"xs\",[[[{\"type\":\"ndarray\",\"array\":{\"type\":\"bytes\",\"data\":\"BPD4a92Cb0EE8Phr3YJvQfHq4EaSo25B8ergRpKjbkE=\"},\"shape\":[4],\"dtype\":\"float64\",\"order\":\"little\"}]]]],[\"ys\",[[[{\"type\":\"ndarray\",\"array\":{\"type\":\"bytes\",\"data\":\"DbXMBsxPZUFbtudC/z5mQVu250L/PmZBDbXMBsxPZUE=\"},\"shape\":[4],\"dtype\":\"float64\",\"order\":\"little\"}]]]]]}}},\"view\":{\"type\":\"object\",\"name\":\"CDSView\",\"id\":\"0ea4fa8c-2a25-46a5-ae4f-9ba45a60dc19\",\"attributes\":{\"filter\":{\"type\":\"object\",\"name\":\"AllIndices\",\"id\":\"b70abc1e-0455-4f04-82ac-30c3ca2b35ac\"}}},\"glyph\":{\"type\":\"object\",\"name\":\"MultiPolygons\",\"id\":\"0b303fd2-1b50-4e7e-9794-764118ac3903\",\"attributes\":{\"xs\":{\"type\":\"field\",\"field\":\"xs\"},\"ys\":{\"type\":\"field\",\"field\":\"ys\"},\"line_color\":{\"type\":\"value\",\"value\":\"red\"},\"fill_color\":{\"type\":\"value\",\"value\":\"red\"},\"fill_alpha\":{\"type\":\"value\",\"value\":0.2},\"hatch_color\":{\"type\":\"value\",\"value\":\"red\"}}},\"selection_glyph\":{\"type\":\"object\",\"name\":\"MultiPolygons\",\"id\":\"9f98555b-5847-41f7-ad67-34d97237940f\",\"attributes\":{\"xs\":{\"type\":\"field\",\"field\":\"xs\"},\"ys\":{\"type\":\"field\",\"field\":\"ys\"},\"line_color\":{\"type\":\"value\",\"value\":\"red\"},\"line_alpha\":{\"type\":\"value\",\"value\":1.0},\"line_width\":{\"type\":\"value\",\"value\":1},\"line_join\":{\"type\":\"value\",\"value\":\"bevel\"},\"line_cap\":{\"type\":\"value\",\"value\":\"butt\"},\"line_dash\":{\"type\":\"value\",\"value\":[]},\"line_dash_offset\":{\"type\":\"value\",\"value\":0},\"fill_color\":{\"type\":\"value\",\"value\":\"red\"},\"fill_alpha\":{\"type\":\"value\",\"value\":0.2},\"hatch_color\":{\"type\":\"value\",\"value\":\"red\"},\"hatch_alpha\":{\"type\":\"value\",\"value\":1.0},\"hatch_scale\":{\"type\":\"value\",\"value\":12.0},\"hatch_pattern\":{\"type\":\"value\",\"value\":null},\"hatch_weight\":{\"type\":\"value\",\"value\":1.0}}},\"nonselection_glyph\":{\"type\":\"object\",\"name\":\"MultiPolygons\",\"id\":\"333d0ea5-af41-4d3c-9fc3-7d7a7395abe2\",\"attributes\":{\"xs\":{\"type\":\"field\",\"field\":\"xs\"},\"ys\":{\"type\":\"field\",\"field\":\"ys\"},\"line_color\":{\"type\":\"value\",\"value\":\"red\"},\"line_alpha\":{\"type\":\"value\",\"value\":0.1},\"fill_color\":{\"type\":\"value\",\"value\":\"red\"},\"fill_alpha\":{\"type\":\"value\",\"value\":0.2},\"hatch_color\":{\"type\":\"value\",\"value\":\"red\"},\"hatch_alpha\":{\"type\":\"value\",\"value\":0.1}}},\"muted_glyph\":{\"type\":\"object\",\"name\":\"MultiPolygons\",\"id\":\"74d86c5b-ba9b-44f8-a7c8-3168342a0cbd\",\"attributes\":{\"xs\":{\"type\":\"field\",\"field\":\"xs\"},\"ys\":{\"type\":\"field\",\"field\":\"ys\"},\"line_color\":{\"type\":\"value\",\"value\":\"red\"},\"line_alpha\":{\"type\":\"value\",\"value\":0.2},\"fill_color\":{\"type\":\"value\",\"value\":\"red\"},\"fill_alpha\":{\"type\":\"value\",\"value\":0.2},\"hatch_color\":{\"type\":\"value\",\"value\":\"red\"},\"hatch_alpha\":{\"type\":\"value\",\"value\":0.2}}}}},{\"type\":\"object\",\"name\":\"GlyphRenderer\",\"id\":\"cac662e8-4316-496b-bfd0-23ca09449fdc\",\"attributes\":{\"data_source\":{\"type\":\"object\",\"name\":\"ColumnDataSource\",\"id\":\"f184e607-18fc-40a0-ab6f-bf7f2f9b4e36\",\"attributes\":{\"selected\":{\"type\":\"object\",\"name\":\"Selection\",\"id\":\"c0f58c90-1e36-4855-b9b3-7c3cc7ee8fcb\",\"attributes\":{\"indices\":[],\"line_indices\":[]}},\"selection_policy\":{\"type\":\"object\",\"name\":\"UnionRenderers\",\"id\":\"a418359e-59c6-4020-8d9c-746a729fa852\"},\"data\":{\"type\":\"map\",\"entries\":[[\"x\",{\"type\":\"ndarray\",\"array\":{\"type\":\"bytes\",\"data\":\"WZ+/5aIgcEEAAAAAAAD4f3aonfK12W9BAAAAAAAA+H/eCoLql+1vQQAAAAAAAPh/gfy+ugOGb0EAAAAAAAD4f3FhKstTB3BBAAAAAAAA+H/nnfX2iplvQQAAAAAAAPh/CFf5pL0xb0EAAAAAAAD4f47kuVPbum9BAAAAAAAA+H/lJXhvdkVvQQAAAAAAAPh/GoQxreLdbkEAAAAAAAD4f2KRggJsZ29BAAAAAAAA+H8KBjwDnPFuQQAAAAAAAPh/ZWPRoQeKbkEAAAAAAAD4f6u/5puhE29BAAAAAAAA+H/KaU0/sp1uQQAAAAAAAPh/5gWQUwu/bkEAAAAAAAD4fwke/eC4SW5BAAAAAAAA+H/77fJN32puQQAAAAAAAPh/lFY+GGr1bUE=\"},\"shape\":[37],\"dtype\":\"float64\",\"order\":\"little\"}],[\"y\",{\"type\":\"ndarray\",\"array\":{\"type\":\"bytes\",\"data\":\"IN7eL4WvZUEAAAAAAAD4f9bNvK7j3GRBAAAAAAAA+H+NwFWxfq9lQQAAAAAAAPh/WCPA4OPcZEEAAAAAAAD4f5iRwFr7jGZBAAAAAAAA+H/nwFtOea9lQQAAAAAAAPh/5LeGDNbcZEEAAAAAAAD4f20aw2v5jGZBAAAAAAAA+H/8AAu8fq9lQQAAAAAAAPh/7P7VP+LcZEEAAAAAAAD4f1uMcOz5jGZBAAAAAAAA+H9e9oKmia9lQQAAAAAAAPh/hNiumN7cZEEAAAAAAAD4f3KlyXX3jGZBAAAAAAAA+H/E7PXphq9lQQAAAAAAAPh/LwOkB+uMZkEAAAAAAAD4f75m0n2Kr2VBAAAAAAAA+H+Ws9Lo8oxmQQAAAAAAAPh/ayBLXH2vZUE=\"},\"shape\":[37],\"dtype\":\"float64\",\"order\":\"little\"}],[\"tile\",[\"113/010\",\"nan\",\"113/011\",\"nan\",\"114/010\",\"nan\",\"114/011\",\"nan\",\"115/009\",\"nan\",\"115/010\",\"nan\",\"115/011\",\"nan\",\"116/009\",\"nan\",\"116/010\",\"nan\",\"116/011\",\"nan\",\"117/009\",\"nan\",\"117/010\",\"nan\",\"117/011\",\"nan\",\"118/009\",\"nan\",\"118/010\",\"nan\",\"119/009\",\"nan\",\"119/010\",\"nan\",\"120/009\",\"nan\",\"120/010\"]]]}}},\"view\":{\"type\":\"object\",\"name\":\"CDSView\",\"id\":\"e74d6772-255d-4078-b85e-b04dcaf9d6e5\",\"attributes\":{\"filter\":{\"type\":\"object\",\"name\":\"AllIndices\",\"id\":\"d3dcb760-0e23-4949-9166-6b99b4b62c4a\"}}},\"glyph\":{\"type\":\"object\",\"name\":\"Text\",\"id\":\"ec346adc-87da-4c70-b7f2-788ef57a0690\",\"attributes\":{\"tags\":[\"apply_ranges\"],\"x\":{\"type\":\"field\",\"field\":\"x\"},\"y\":{\"type\":\"field\",\"field\":\"y\"},\"text\":{\"type\":\"field\",\"field\":\"tile\"},\"text_color\":{\"type\":\"value\",\"value\":\"white\"},\"text_align\":{\"type\":\"value\",\"value\":\"center\"},\"text_baseline\":{\"type\":\"value\",\"value\":\"middle\"}}},\"selection_glyph\":{\"type\":\"object\",\"name\":\"Text\",\"id\":\"f5f00c3b-6681-420b-8dfb-5d323a4b9ed1\",\"attributes\":{\"tags\":[\"apply_ranges\"],\"x\":{\"type\":\"field\",\"field\":\"x\"},\"y\":{\"type\":\"field\",\"field\":\"y\"},\"text\":{\"type\":\"field\",\"field\":\"tile\"},\"angle\":{\"type\":\"value\",\"value\":0},\"x_offset\":{\"type\":\"value\",\"value\":0},\"y_offset\":{\"type\":\"value\",\"value\":0},\"outline_shape\":{\"type\":\"value\",\"value\":\"box\"},\"text_color\":{\"type\":\"value\",\"value\":\"white\"},\"text_outline_color\":{\"type\":\"value\",\"value\":null},\"text_alpha\":{\"type\":\"value\",\"value\":1.0},\"text_font_style\":{\"type\":\"value\",\"value\":\"normal\"},\"text_align\":{\"type\":\"value\",\"value\":\"center\"},\"text_baseline\":{\"type\":\"value\",\"value\":\"middle\"},\"text_line_height\":{\"type\":\"value\",\"value\":1.2},\"background_fill_color\":{\"type\":\"value\",\"value\":null},\"background_fill_alpha\":{\"type\":\"value\",\"value\":1.0},\"background_hatch_color\":{\"type\":\"value\",\"value\":null},\"background_hatch_alpha\":{\"type\":\"value\",\"value\":1.0},\"background_hatch_scale\":{\"type\":\"value\",\"value\":12.0},\"background_hatch_pattern\":{\"type\":\"value\",\"value\":null},\"background_hatch_weight\":{\"type\":\"value\",\"value\":1.0},\"border_line_color\":{\"type\":\"value\",\"value\":null},\"border_line_alpha\":{\"type\":\"value\",\"value\":1.0},\"border_line_width\":{\"type\":\"value\",\"value\":1},\"border_line_join\":{\"type\":\"value\",\"value\":\"bevel\"},\"border_line_cap\":{\"type\":\"value\",\"value\":\"butt\"},\"border_line_dash\":{\"type\":\"value\",\"value\":[]},\"border_line_dash_offset\":{\"type\":\"value\",\"value\":0}}},\"nonselection_glyph\":{\"type\":\"object\",\"name\":\"Text\",\"id\":\"dff6e0d5-cc85-4b65-9c77-7e2c8e909600\",\"attributes\":{\"tags\":[\"apply_ranges\"],\"x\":{\"type\":\"field\",\"field\":\"x\"},\"y\":{\"type\":\"field\",\"field\":\"y\"},\"text\":{\"type\":\"field\",\"field\":\"tile\"},\"text_color\":{\"type\":\"value\",\"value\":\"white\"},\"text_alpha\":{\"type\":\"value\",\"value\":0.1},\"text_align\":{\"type\":\"value\",\"value\":\"center\"},\"text_baseline\":{\"type\":\"value\",\"value\":\"middle\"}}},\"muted_glyph\":{\"type\":\"object\",\"name\":\"Text\",\"id\":\"49432386-c6e7-414e-b664-a3e393ba389c\",\"attributes\":{\"tags\":[\"apply_ranges\"],\"x\":{\"type\":\"field\",\"field\":\"x\"},\"y\":{\"type\":\"field\",\"field\":\"y\"},\"text\":{\"type\":\"field\",\"field\":\"tile\"},\"text_color\":{\"type\":\"value\",\"value\":\"white\"},\"text_alpha\":{\"type\":\"value\",\"value\":0.2},\"text_align\":{\"type\":\"value\",\"value\":\"center\"},\"text_baseline\":{\"type\":\"value\",\"value\":\"middle\"}}}}}],\"toolbar\":{\"type\":\"object\",\"name\":\"Toolbar\",\"id\":\"046189c0-2341-4b65-a92e-c30eb1af8f6f\",\"attributes\":{\"tools\":[{\"type\":\"object\",\"name\":\"WheelZoomTool\",\"id\":\"230857c1-1ff8-46fe-8840-4f1dec388149\",\"attributes\":{\"renderers\":\"auto\",\"zoom_on_axis\":false}},{\"type\":\"object\",\"name\":\"BoxZoomTool\",\"id\":\"19c9462f-4739-485c-850f-9287a548eea5\",\"attributes\":{\"overlay\":{\"type\":\"object\",\"name\":\"BoxAnnotation\",\"id\":\"7ef4e10e-67e5-4bf1-a636-9dc295cc8869\",\"attributes\":{\"syncable\":false,\"line_color\":\"black\",\"line_alpha\":1.0,\"line_width\":2,\"line_dash\":[4,4],\"fill_color\":\"lightgrey\",\"fill_alpha\":0.5,\"level\":\"overlay\",\"visible\":false,\"left\":{\"type\":\"number\",\"value\":\"nan\"},\"right\":{\"type\":\"number\",\"value\":\"nan\"},\"top\":{\"type\":\"number\",\"value\":\"nan\"},\"bottom\":{\"type\":\"number\",\"value\":\"nan\"},\"left_units\":\"canvas\",\"right_units\":\"canvas\",\"top_units\":\"canvas\",\"bottom_units\":\"canvas\",\"handles\":{\"type\":\"object\",\"name\":\"BoxInteractionHandles\",\"id\":\"09de26cd-c91d-4c6d-b6e4-309acff79633\",\"attributes\":{\"all\":{\"type\":\"object\",\"name\":\"AreaVisuals\",\"id\":\"1a3f0963-3b15-4732-9911-6e343e7e2dc4\",\"attributes\":{\"fill_color\":\"white\",\"hover_fill_color\":\"lightgray\"}}}}}},\"match_aspect\":true}},{\"type\":\"object\",\"name\":\"HoverTool\",\"id\":\"a0a0694d-6a00-4c45-b3e5-19b5a34909b3\",\"attributes\":{\"tags\":[\"hv_created\"],\"renderers\":[{\"id\":\"cac662e8-4316-496b-bfd0-23ca09449fdc\"}],\"tooltips\":[[\"x\",\"@{x}\"],[\"y\",\"@{y}\"],[\"tile\",\"@{tile}\"]]}},{\"type\":\"object\",\"name\":\"PanTool\",\"id\":\"9105b0fd-456b-4681-95ba-47a9c37334f4\"},{\"type\":\"object\",\"name\":\"ResetTool\",\"id\":\"f73b39d2-6a72-4981-8c2c-5d6f8ab62061\"}],\"active_drag\":{\"id\":\"9105b0fd-456b-4681-95ba-47a9c37334f4\"}}},\"left\":[{\"type\":\"object\",\"name\":\"LinearAxis\",\"id\":\"7daf6f96-d9cf-469d-8446-0f7400c8d98d\",\"attributes\":{\"ticker\":{\"type\":\"object\",\"name\":\"MercatorTicker\",\"id\":\"c9398521-b5b7-4277-bf6c-6bb99b1fa57a\",\"attributes\":{\"mantissas\":[1,2,5],\"dimension\":\"lat\"}},\"formatter\":{\"type\":\"object\",\"name\":\"MercatorTickFormatter\",\"id\":\"9e2d4674-069f-402d-a76c-f0d6ae6b3812\",\"attributes\":{\"dimension\":\"lat\"}},\"axis_label\":\"Latitude\",\"major_label_policy\":{\"type\":\"object\",\"name\":\"AllLabels\",\"id\":\"2729a090-bee4-43d2-b1bc-ff8b33988fd6\"}}}],\"right\":[{\"type\":\"object\",\"name\":\"Legend\",\"id\":\"c5f7e765-5b9d-491d-94da-b26d631ed34a\",\"attributes\":{\"location\":[0,0],\"click_policy\":\"mute\",\"items\":[{\"type\":\"object\",\"name\":\"LegendItem\",\"id\":\"16042b56-acbb-4d44-bcc9-6976bf413c2a\",\"attributes\":{\"label\":{\"type\":\"value\",\"value\":\"Landsat tile\"},\"renderers\":[{\"id\":\"b2a94da3-9156-410b-8740-d6bf2608e0f7\"}]}},{\"type\":\"object\",\"name\":\"LegendItem\",\"id\":\"12ec1e39-eb36-421d-89a5-17920c3700c6\",\"attributes\":{\"label\":{\"type\":\"value\",\"value\":\"ROI\"},\"renderers\":[{\"id\":\"d88f28a2-779c-432c-87b7-9173e5549c02\"}]}}]}}],\"below\":[{\"type\":\"object\",\"name\":\"LinearAxis\",\"id\":\"a198ad0a-8b07-4215-a46a-63970305219d\",\"attributes\":{\"ticker\":{\"type\":\"object\",\"name\":\"MercatorTicker\",\"id\":\"d9b9eda5-613f-4174-bd16-ededf91acc4e\",\"attributes\":{\"mantissas\":[1,2,5],\"dimension\":\"lon\"}},\"formatter\":{\"type\":\"object\",\"name\":\"MercatorTickFormatter\",\"id\":\"9f0c4ff4-5435-424d-9fa0-af081b652798\",\"attributes\":{\"dimension\":\"lon\"}},\"axis_label\":\"Longitude\",\"major_label_policy\":{\"type\":\"object\",\"name\":\"AllLabels\",\"id\":\"5c8fccf6-4dcb-478c-99bc-2c5d5419cc23\"}}}],\"center\":[{\"type\":\"object\",\"name\":\"Grid\",\"id\":\"597595fa-29e7-4b31-a321-cdab8c282023\",\"attributes\":{\"axis\":{\"id\":\"a198ad0a-8b07-4215-a46a-63970305219d\"},\"grid_line_color\":null}},{\"type\":\"object\",\"name\":\"Grid\",\"id\":\"58b43d36-c38f-466b-9661-31d9389e88bd\",\"attributes\":{\"dimension\":1,\"axis\":{\"id\":\"7daf6f96-d9cf-469d-8446-0f7400c8d98d\"},\"grid_line_color\":null}}],\"frame_width\":700,\"frame_height\":800,\"min_border_top\":10,\"min_border_bottom\":10,\"min_border_left\":10,\"min_border_right\":10,\"output_backend\":\"webgl\",\"match_aspect\":true}},{\"type\":\"object\",\"name\":\"Spacer\",\"id\":\"c0f36bf4-97a8-4328-a41c-d49a881861cb\",\"attributes\":{\"name\":\"HSpacer00485\",\"stylesheets\":[\"\\n:host(.pn-loading):before, .pn-loading:before {\\n  background-color: #c3c3c3;\\n  mask-size: auto calc(min(50%, 400px));\\n  -webkit-mask-size: auto calc(min(50%, 400px));\\n}\",{\"id\":\"9622eb0f-7b59-4676-9008-a9a6d55d8665\"},{\"id\":\"83a0bd64-4726-4f48-8f42-e2c86248a411\"},{\"id\":\"bb60c691-eaaa-4079-b8fe-b365e6dbd7d7\"}],\"margin\":0,\"sizing_mode\":\"stretch_width\",\"align\":\"start\"}}]}}],\"defs\":[{\"type\":\"model\",\"name\":\"ReactiveHTML1\"},{\"type\":\"model\",\"name\":\"FlexBox1\",\"properties\":[{\"name\":\"align_content\",\"kind\":\"Any\",\"default\":\"flex-start\"},{\"name\":\"align_items\",\"kind\":\"Any\",\"default\":\"flex-start\"},{\"name\":\"flex_direction\",\"kind\":\"Any\",\"default\":\"row\"},{\"name\":\"flex_wrap\",\"kind\":\"Any\",\"default\":\"wrap\"},{\"name\":\"gap\",\"kind\":\"Any\",\"default\":\"\"},{\"name\":\"justify_content\",\"kind\":\"Any\",\"default\":\"flex-start\"}]},{\"type\":\"model\",\"name\":\"FloatPanel1\",\"properties\":[{\"name\":\"config\",\"kind\":\"Any\",\"default\":{\"type\":\"map\"}},{\"name\":\"contained\",\"kind\":\"Any\",\"default\":true},{\"name\":\"position\",\"kind\":\"Any\",\"default\":\"right-top\"},{\"name\":\"offsetx\",\"kind\":\"Any\",\"default\":null},{\"name\":\"offsety\",\"kind\":\"Any\",\"default\":null},{\"name\":\"theme\",\"kind\":\"Any\",\"default\":\"primary\"},{\"name\":\"status\",\"kind\":\"Any\",\"default\":\"normalized\"}]},{\"type\":\"model\",\"name\":\"GridStack1\",\"properties\":[{\"name\":\"mode\",\"kind\":\"Any\",\"default\":\"warn\"},{\"name\":\"ncols\",\"kind\":\"Any\",\"default\":null},{\"name\":\"nrows\",\"kind\":\"Any\",\"default\":null},{\"name\":\"allow_resize\",\"kind\":\"Any\",\"default\":true},{\"name\":\"allow_drag\",\"kind\":\"Any\",\"default\":true},{\"name\":\"state\",\"kind\":\"Any\",\"default\":[]}]},{\"type\":\"model\",\"name\":\"drag1\",\"properties\":[{\"name\":\"slider_width\",\"kind\":\"Any\",\"default\":5},{\"name\":\"slider_color\",\"kind\":\"Any\",\"default\":\"black\"},{\"name\":\"value\",\"kind\":\"Any\",\"default\":50}]},{\"type\":\"model\",\"name\":\"click1\",\"properties\":[{\"name\":\"terminal_output\",\"kind\":\"Any\",\"default\":\"\"},{\"name\":\"debug_name\",\"kind\":\"Any\",\"default\":\"\"},{\"name\":\"clears\",\"kind\":\"Any\",\"default\":0}]},{\"type\":\"model\",\"name\":\"FastWrapper1\",\"properties\":[{\"name\":\"object\",\"kind\":\"Any\",\"default\":null},{\"name\":\"style\",\"kind\":\"Any\",\"default\":null}]},{\"type\":\"model\",\"name\":\"NotificationAreaBase1\",\"properties\":[{\"name\":\"js_events\",\"kind\":\"Any\",\"default\":{\"type\":\"map\"}},{\"name\":\"position\",\"kind\":\"Any\",\"default\":\"bottom-right\"},{\"name\":\"_clear\",\"kind\":\"Any\",\"default\":0}]},{\"type\":\"model\",\"name\":\"NotificationArea1\",\"properties\":[{\"name\":\"js_events\",\"kind\":\"Any\",\"default\":{\"type\":\"map\"}},{\"name\":\"notifications\",\"kind\":\"Any\",\"default\":[]},{\"name\":\"position\",\"kind\":\"Any\",\"default\":\"bottom-right\"},{\"name\":\"_clear\",\"kind\":\"Any\",\"default\":0},{\"name\":\"types\",\"kind\":\"Any\",\"default\":[{\"type\":\"map\",\"entries\":[[\"type\",\"warning\"],[\"background\",\"#ffc107\"],[\"icon\",{\"type\":\"map\",\"entries\":[[\"className\",\"fas fa-exclamation-triangle\"],[\"tagName\",\"i\"],[\"color\",\"white\"]]}]]},{\"type\":\"map\",\"entries\":[[\"type\",\"info\"],[\"background\",\"#007bff\"],[\"icon\",{\"type\":\"map\",\"entries\":[[\"className\",\"fas fa-info-circle\"],[\"tagName\",\"i\"],[\"color\",\"white\"]]}]]}]}]},{\"type\":\"model\",\"name\":\"Notification\",\"properties\":[{\"name\":\"background\",\"kind\":\"Any\",\"default\":null},{\"name\":\"duration\",\"kind\":\"Any\",\"default\":3000},{\"name\":\"icon\",\"kind\":\"Any\",\"default\":null},{\"name\":\"message\",\"kind\":\"Any\",\"default\":\"\"},{\"name\":\"notification_type\",\"kind\":\"Any\",\"default\":null},{\"name\":\"_destroyed\",\"kind\":\"Any\",\"default\":false}]},{\"type\":\"model\",\"name\":\"TemplateActions1\",\"properties\":[{\"name\":\"open_modal\",\"kind\":\"Any\",\"default\":0},{\"name\":\"close_modal\",\"kind\":\"Any\",\"default\":0}]},{\"type\":\"model\",\"name\":\"BootstrapTemplateActions1\",\"properties\":[{\"name\":\"open_modal\",\"kind\":\"Any\",\"default\":0},{\"name\":\"close_modal\",\"kind\":\"Any\",\"default\":0}]},{\"type\":\"model\",\"name\":\"TemplateEditor1\",\"properties\":[{\"name\":\"layout\",\"kind\":\"Any\",\"default\":[]}]},{\"type\":\"model\",\"name\":\"MaterialTemplateActions1\",\"properties\":[{\"name\":\"open_modal\",\"kind\":\"Any\",\"default\":0},{\"name\":\"close_modal\",\"kind\":\"Any\",\"default\":0}]},{\"type\":\"model\",\"name\":\"ReactiveESM1\"},{\"type\":\"model\",\"name\":\"JSComponent1\"},{\"type\":\"model\",\"name\":\"ReactComponent1\"},{\"type\":\"model\",\"name\":\"AnyWidgetComponent1\"},{\"type\":\"model\",\"name\":\"request_value1\",\"properties\":[{\"name\":\"fill\",\"kind\":\"Any\",\"default\":\"none\"},{\"name\":\"_synced\",\"kind\":\"Any\",\"default\":null},{\"name\":\"_request_sync\",\"kind\":\"Any\",\"default\":0}]}]}};\n",
       "  var render_items = [{\"docid\":\"418c9492-4c05-4bea-b368-0e04cb01a71a\",\"roots\":{\"63c9bbb1-6dac-444b-b60e-79c1882148f7\":\"f136153e-ca44-4f9a-afbb-718c5620afe3\"},\"root_ids\":[\"63c9bbb1-6dac-444b-b60e-79c1882148f7\"]}];\n",
       "  var docs = Object.values(docs_json)\n",
       "  if (!docs) {\n",
       "    return\n",
       "  }\n",
       "  const py_version = docs[0].version.replace('rc', '-rc.').replace('.dev', '-dev.')\n",
       "  async function embed_document(root) {\n",
       "    var Bokeh = get_bokeh(root)\n",
       "    await Bokeh.embed.embed_items_notebook(docs_json, render_items);\n",
       "    for (const render_item of render_items) {\n",
       "      for (const root_id of render_item.root_ids) {\n",
       "\tconst id_el = document.getElementById(root_id)\n",
       "\tif (id_el.children.length && id_el.children[0].hasAttribute('data-root-id')) {\n",
       "\t  const root_el = id_el.children[0]\n",
       "\t  root_el.id = root_el.id + '-rendered'\n",
       "\t  for (const child of root_el.children) {\n",
       "            // Ensure JupyterLab does not capture keyboard shortcuts\n",
       "            // see: https://jupyterlab.readthedocs.io/en/4.1.x/extension/notebook.html#keyboard-interaction-model\n",
       "\t    child.setAttribute('data-lm-suppress-shortcuts', 'true')\n",
       "\t  }\n",
       "\t}\n",
       "      }\n",
       "    }\n",
       "  }\n",
       "  function get_bokeh(root) {\n",
       "    if (root.Bokeh === undefined) {\n",
       "      return null\n",
       "    } else if (root.Bokeh.version !== py_version) {\n",
       "      if (root.Bokeh.versions === undefined || !root.Bokeh.versions.has(py_version)) {\n",
       "\treturn null\n",
       "      }\n",
       "      return root.Bokeh.versions.get(py_version);\n",
       "    } else if (root.Bokeh.version === py_version) {\n",
       "      return root.Bokeh\n",
       "    }\n",
       "    return null\n",
       "  }\n",
       "  function is_loaded(root) {\n",
       "    var Bokeh = get_bokeh(root)\n",
       "    return (Bokeh != null && Bokeh.Panel !== undefined)\n",
       "  }\n",
       "  if (is_loaded(root)) {\n",
       "    embed_document(root);\n",
       "  } else {\n",
       "    var attempts = 0;\n",
       "    var timer = setInterval(function(root) {\n",
       "      if (is_loaded(root)) {\n",
       "        clearInterval(timer);\n",
       "        embed_document(root);\n",
       "      } else if (document.readyState == \"complete\") {\n",
       "        attempts++;\n",
       "        if (attempts > 200) {\n",
       "          clearInterval(timer);\n",
       "\t  var Bokeh = get_bokeh(root)\n",
       "\t  if (Bokeh == null || Bokeh.Panel == null) {\n",
       "            console.warn(\"Panel: ERROR: Unable to run Panel code because Bokeh or Panel library is missing\");\n",
       "\t  } else {\n",
       "\t    console.warn(\"Panel: WARNING: Attempting to render but not all required libraries could be resolved.\")\n",
       "\t    embed_document(root)\n",
       "\t  }\n",
       "        }\n",
       "      }\n",
       "    }, 25, root)\n",
       "  }\n",
       "})(window);</script>"
      ],
      "text/plain": [
       ":Overlay\n",
       "   .WMTS.I                :WMTS   [Longitude,Latitude]\n",
       "   .Polygons.Landsat_tile :Polygons   [Longitude,Latitude]\n",
       "   .WMTS.II               :WMTS   [Longitude,Latitude]\n",
       "   .Polygons.ROI          :Polygons   [Longitude,Latitude]\n",
       "   .Labels.I              :Labels   [x,y]   (tile)"
      ]
     },
     "execution_count": 10,
     "metadata": {
      "application/vnd.holoviews_exec.v0+json": {
       "id": "63c9bbb1-6dac-444b-b60e-79c1882148f7"
      }
     },
     "output_type": "execute_result"
    }
   ],
   "source": [
    "gdf_tiles = gdf_scenes.groupby('tile').first().reset_index()[['tile', 'wrs_path', 'wrs_row', 'geometry']].set_crs('EPSG:4326')\n",
    "gdf_labels = gdf_tiles.set_geometry(gdf_tiles.centroid)\n",
    "\n",
    "plot_labels = gdf_labels.to_crs(\"EPSG:3857\").assign(x=lambda df: df.geometry.x, y=lambda df: df.geometry.y).hvplot.labels(text=\"tile\", x=\"x\", y=\"y\", text_color='white')\n",
    "\n",
    "plot_tiles = gdf_tiles.hvplot(title='Available tiles over ROI', geo=True,\n",
    "                              fill_alpha=0.3, line_color='blue',\n",
    "                              height=800, tiles='OSM', label='Landsat tile'\n",
    "                             ) * plot_bbox * plot_labels\n",
    "\n",
    "plot_tiles"
   ]
  },
  {
   "cell_type": "markdown",
   "id": "d48bc0da",
   "metadata": {},
   "source": [
    "## 2. Download scenes\n",
    "### Filter and select scene IDs"
   ]
  },
  {
   "cell_type": "code",
   "execution_count": 12,
   "id": "95ab9662",
   "metadata": {},
   "outputs": [
    {
     "data": {
      "text/html": [
       "<div>\n",
       "<style scoped>\n",
       "    .dataframe tbody tr th:only-of-type {\n",
       "        vertical-align: middle;\n",
       "    }\n",
       "\n",
       "    .dataframe tbody tr th {\n",
       "        vertical-align: top;\n",
       "    }\n",
       "\n",
       "    .dataframe thead th {\n",
       "        text-align: right;\n",
       "    }\n",
       "</style>\n",
       "<table border=\"1\" class=\"dataframe\">\n",
       "  <thead>\n",
       "    <tr style=\"text-align: right;\">\n",
       "      <th></th>\n",
       "      <th>display_id</th>\n",
       "      <th>wrs_path</th>\n",
       "      <th>wrs_row</th>\n",
       "      <th>satellite</th>\n",
       "      <th>cloud_cover</th>\n",
       "      <th>acquisition_date</th>\n",
       "      <th>spatial_coverage</th>\n",
       "      <th>tile</th>\n",
       "    </tr>\n",
       "  </thead>\n",
       "  <tbody>\n",
       "    <tr>\n",
       "      <th>5</th>\n",
       "      <td>LC08_L2SP_120009_20200713_20200912_02_T1</td>\n",
       "      <td>120</td>\n",
       "      <td>9</td>\n",
       "      <td>Landsat-8</td>\n",
       "      <td>9</td>\n",
       "      <td>2020-07-13</td>\n",
       "      <td>POLYGON ((139.46994 71.81984, 144.26817 71.015...</td>\n",
       "      <td>120/009</td>\n",
       "    </tr>\n",
       "    <tr>\n",
       "      <th>11</th>\n",
       "      <td>LC08_L2SP_116010_20200701_20200913_02_T1</td>\n",
       "      <td>116</td>\n",
       "      <td>10</td>\n",
       "      <td>Landsat-8</td>\n",
       "      <td>8</td>\n",
       "      <td>2020-07-01</td>\n",
       "      <td>POLYGON ((143.77611 70.49487, 148.3388 69.7360...</td>\n",
       "      <td>116/010</td>\n",
       "    </tr>\n",
       "    <tr>\n",
       "      <th>14</th>\n",
       "      <td>LC08_L2SP_120010_20200627_20200823_02_T1</td>\n",
       "      <td>120</td>\n",
       "      <td>10</td>\n",
       "      <td>Landsat-8</td>\n",
       "      <td>0</td>\n",
       "      <td>2020-06-27</td>\n",
       "      <td>POLYGON ((137.59367 70.4948, 142.15663 69.7360...</td>\n",
       "      <td>120/010</td>\n",
       "    </tr>\n",
       "    <tr>\n",
       "      <th>17</th>\n",
       "      <td>LC08_L2SP_115009_20200624_20200823_02_T1</td>\n",
       "      <td>115</td>\n",
       "      <td>9</td>\n",
       "      <td>Landsat-8</td>\n",
       "      <td>3</td>\n",
       "      <td>2020-06-24</td>\n",
       "      <td>POLYGON ((147.19332 71.8201, 151.99276 71.0155...</td>\n",
       "      <td>115/009</td>\n",
       "    </tr>\n",
       "    <tr>\n",
       "      <th>20</th>\n",
       "      <td>LC08_L2SP_119009_20200620_20200823_02_T1</td>\n",
       "      <td>119</td>\n",
       "      <td>9</td>\n",
       "      <td>Landsat-8</td>\n",
       "      <td>1</td>\n",
       "      <td>2020-06-20</td>\n",
       "      <td>POLYGON ((141.0183 71.81998, 145.81764 71.0152...</td>\n",
       "      <td>119/009</td>\n",
       "    </tr>\n",
       "  </tbody>\n",
       "</table>\n",
       "</div>"
      ],
      "text/plain": [
       "                                  display_id  wrs_path  wrs_row  satellite  \\\n",
       "5   LC08_L2SP_120009_20200713_20200912_02_T1       120        9  Landsat-8   \n",
       "11  LC08_L2SP_116010_20200701_20200913_02_T1       116       10  Landsat-8   \n",
       "14  LC08_L2SP_120010_20200627_20200823_02_T1       120       10  Landsat-8   \n",
       "17  LC08_L2SP_115009_20200624_20200823_02_T1       115        9  Landsat-8   \n",
       "20  LC08_L2SP_119009_20200620_20200823_02_T1       119        9  Landsat-8   \n",
       "\n",
       "    cloud_cover acquisition_date  \\\n",
       "5             9       2020-07-13   \n",
       "11            8       2020-07-01   \n",
       "14            0       2020-06-27   \n",
       "17            3       2020-06-24   \n",
       "20            1       2020-06-20   \n",
       "\n",
       "                                     spatial_coverage     tile  \n",
       "5   POLYGON ((139.46994 71.81984, 144.26817 71.015...  120/009  \n",
       "11  POLYGON ((143.77611 70.49487, 148.3388 69.7360...  116/010  \n",
       "14  POLYGON ((137.59367 70.4948, 142.15663 69.7360...  120/010  \n",
       "17  POLYGON ((147.19332 71.8201, 151.99276 71.0155...  115/009  \n",
       "20  POLYGON ((141.0183 71.81998, 145.81764 71.0152...  119/009  "
      ]
     },
     "execution_count": 12,
     "metadata": {},
     "output_type": "execute_result"
    }
   ],
   "source": [
    "# Select scene ids to download from dataframe\n",
    "#ids = df_scenes.display_id.values # all\n",
    "# df_scenes_filt = df_scenes.loc[(df_scenes.cloud_cover < 2) & (df_scenes.tile=='196/028')] # filter by cloudcover and tile\n",
    "df_scenes_filt = df_scenes.loc[(df_scenes.cloud_cover < 10) & (df_scenes.tile!='196/027')] # filter by cloudcover and tile\n",
    "ids = df_scenes_filt.display_id.values\n",
    "df_scenes_filt.head()"
   ]
  },
  {
   "cell_type": "markdown",
   "id": "41cc022e-2d4c-456b-8d62-64235984201a",
   "metadata": {},
   "source": [
    "### Download .tar files"
   ]
  },
  {
   "cell_type": "code",
   "execution_count": null,
   "id": "f9835322",
   "metadata": {},
   "outputs": [
    {
     "name": "stderr",
     "output_type": "stream",
     "text": []
    },
    {
     "name": "stdout",
     "output_type": "stream",
     "text": [
      "Download failed with dataset id 1 of 3. Re-trying with the next one.\n"
     ]
    },
    {
     "name": "stderr",
     "output_type": "stream",
     "text": [
      "100%|██████████| 775M/775M [00:25<00:00, 32.4MB/s] \n"
     ]
    },
    {
     "name": "stdout",
     "output_type": "stream",
     "text": [
      "None of the archived ids succeeded! Update necessary!\n",
      "LC08_L2SP_120009_20200713_20200912_02_T1 error but file exists\n",
      "Download failed with dataset id 1 of 3. Re-trying with the next one.\n"
     ]
    },
    {
     "name": "stderr",
     "output_type": "stream",
     "text": [
      "100%|██████████| 840M/840M [00:25<00:00, 34.7MB/s] \n"
     ]
    },
    {
     "name": "stdout",
     "output_type": "stream",
     "text": [
      "None of the archived ids succeeded! Update necessary!\n",
      "LC08_L2SP_116010_20200701_20200913_02_T1 error but file exists\n",
      "Download failed with dataset id 1 of 3. Re-trying with the next one.\n"
     ]
    },
    {
     "name": "stderr",
     "output_type": "stream",
     "text": [
      "848MB [00:24, 35.9MB/s]                            \n"
     ]
    },
    {
     "name": "stdout",
     "output_type": "stream",
     "text": [
      "None of the archived ids succeeded! Update necessary!\n",
      "LC08_L2SP_120010_20200627_20200823_02_T1 error but file exists\n",
      "Download failed with dataset id 1 of 3. Re-trying with the next one.\n"
     ]
    },
    {
     "name": "stderr",
     "output_type": "stream",
     "text": [
      "100%|██████████| 710M/710M [00:34<00:00, 21.5MB/s] \n"
     ]
    },
    {
     "name": "stdout",
     "output_type": "stream",
     "text": [
      "None of the archived ids succeeded! Update necessary!\n",
      "LC08_L2SP_115009_20200624_20200823_02_T1 error but file exists\n",
      "Download failed with dataset id 1 of 3. Re-trying with the next one.\n"
     ]
    },
    {
     "name": "stderr",
     "output_type": "stream",
     "text": [
      " 64%|██████▍   | 529M/826M [00:20<00:11, 26.8MB/s] \n"
     ]
    },
    {
     "name": "stdout",
     "output_type": "stream",
     "text": [
      "LC08_L2SP_119009_20200620_20200823_02_T1 error but file exists\n",
      "Download failed with dataset id 1 of 3. Re-trying with the next one.\n"
     ]
    },
    {
     "name": "stderr",
     "output_type": "stream",
     "text": [
      " 22%|██▏       | 180M/834M [00:06<00:18, 37.7MB/s] "
     ]
    }
   ],
   "source": [
    "# set output directory\n",
    "path_output_dir = Path('../../data/C2L2')\n",
    "\n",
    "# initialize the API\n",
    "ee = EarthExplorer(username, password)\n",
    "\n",
    "# download the scenes\n",
    "for id in tqdm(ids, total=len(ids), desc=\"Total download progress\", position=-1):\n",
    "    path_output_file = path_output_dir.joinpath(id+'.tar')\n",
    "    try:\n",
    "        ee.download(id, output_dir=path_output_dir)\n",
    "        print('{} successful'.format(id))\n",
    "\n",
    "  # aditional error handling\n",
    "    except:\n",
    "        if path_output_file.exists():\n",
    "            print(f'{id} error but file exists')\n",
    "        else:\n",
    "            print(f'{id} error')\n",
    "\n",
    "ee.logout()"
   ]
  },
  {
   "cell_type": "code",
   "execution_count": 59,
   "id": "a618b10e-3821-44cf-8fd1-917d1c57de34",
   "metadata": {},
   "outputs": [],
   "source": [
    "df_scenes_filt.to_csv(path_output_dir.joinpath('metadata_L8L9_'+search_params['start_date']+'to'+search_params['end_date']+'.csv'))"
   ]
  },
  {
   "cell_type": "markdown",
   "id": "a04a6d84-f531-49c7-9e81-7a24c9471c8d",
   "metadata": {},
   "source": [
    "### Extract .tar files"
   ]
  },
  {
   "cell_type": "code",
   "execution_count": 61,
   "id": "b8cd71f4-ac29-4f4d-89e1-b40a881a5485",
   "metadata": {},
   "outputs": [
    {
     "data": {
      "text/plain": [
       "WindowsPath('data/C2L2')"
      ]
     },
     "execution_count": 61,
     "metadata": {},
     "output_type": "execute_result"
    }
   ],
   "source": [
    "path_output_dir"
   ]
  },
  {
   "cell_type": "code",
   "execution_count": 62,
   "id": "87827e22-4f8f-4c40-b214-51a635355f86",
   "metadata": {},
   "outputs": [
    {
     "name": "stderr",
     "output_type": "stream",
     "text": [
      "Total extraction progress: 100%|█████████████████████████████████████████████████████████| 3/3 [00:03<00:00,  1.26s/it]\n"
     ]
    }
   ],
   "source": [
    "# Extract .tar files into folders\n",
    "paths_output = list(path_output_dir.glob('*.tar'))\n",
    "\n",
    "for path in tqdm(paths_output, desc=\"Total extraction progress\"):\n",
    "    with closing(tarfile.open(path)) as fl:\n",
    "        path_output_folder = path_output_dir.joinpath(path.name.split('.')[0])\n",
    "        path_output_folder.mkdir(parents=True, exist_ok=True)\n",
    "        fl.extractall(path_output_folder)\n",
    "    path.unlink()"
   ]
  },
  {
   "cell_type": "code",
   "execution_count": null,
   "id": "9818d5ff-d034-4bce-99bc-6c544b7190ca",
   "metadata": {},
   "outputs": [],
   "source": []
  }
 ],
 "metadata": {
  "kernelspec": {
   "display_name": "Python 3",
   "language": "python",
   "name": "python3"
  },
  "language_info": {
   "codemirror_mode": {
    "name": "ipython",
    "version": 3
   },
   "file_extension": ".py",
   "mimetype": "text/x-python",
   "name": "python",
   "nbconvert_exporter": "python",
   "pygments_lexer": "ipython3",
   "version": "3.10.14"
  }
 },
 "nbformat": 4,
 "nbformat_minor": 5
}

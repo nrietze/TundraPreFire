{
 "cells": [
  {
   "cell_type": "code",
   "execution_count": 158,
   "metadata": {},
   "outputs": [
    {
     "data": {
      "text/html": [
       "\n",
       "            <style>\n",
       "                .geemap-dark {\n",
       "                    --jp-widgets-color: white;\n",
       "                    --jp-widgets-label-color: white;\n",
       "                    --jp-ui-font-color1: white;\n",
       "                    --jp-layout-color2: #454545;\n",
       "                    background-color: #383838;\n",
       "                }\n",
       "\n",
       "                .geemap-dark .jupyter-button {\n",
       "                    --jp-layout-color3: #383838;\n",
       "                }\n",
       "\n",
       "                .geemap-colab {\n",
       "                    background-color: var(--colab-primary-surface-color, white);\n",
       "                }\n",
       "\n",
       "                .geemap-colab .jupyter-button {\n",
       "                    --jp-layout-color3: var(--colab-primary-surface-color, white);\n",
       "                }\n",
       "            </style>\n",
       "            "
      ],
      "text/plain": [
       "<IPython.core.display.HTML object>"
      ]
     },
     "metadata": {},
     "output_type": "display_data"
    }
   ],
   "source": [
    "import geopandas as gp\n",
    "import geemap\n",
    "# import geemap.foliumap as geemap\n",
    "import ee\n",
    "ee.Initialize()"
   ]
  },
  {
   "cell_type": "code",
   "execution_count": 159,
   "metadata": {},
   "outputs": [
    {
     "data": {
      "text/html": [
       "\n",
       "            <style>\n",
       "                .geemap-dark {\n",
       "                    --jp-widgets-color: white;\n",
       "                    --jp-widgets-label-color: white;\n",
       "                    --jp-ui-font-color1: white;\n",
       "                    --jp-layout-color2: #454545;\n",
       "                    background-color: #383838;\n",
       "                }\n",
       "\n",
       "                .geemap-dark .jupyter-button {\n",
       "                    --jp-layout-color3: #383838;\n",
       "                }\n",
       "\n",
       "                .geemap-colab {\n",
       "                    background-color: var(--colab-primary-surface-color, white);\n",
       "                }\n",
       "\n",
       "                .geemap-colab .jupyter-button {\n",
       "                    --jp-layout-color3: var(--colab-primary-surface-color, white);\n",
       "                }\n",
       "            </style>\n",
       "            "
      ],
      "text/plain": [
       "<IPython.core.display.HTML object>"
      ]
     },
     "metadata": {},
     "output_type": "display_data"
    }
   ],
   "source": [
    "# Algorithm constants\n",
    "ndvi_v = 0.6 # vegetation\n",
    "ndvi_s = 0.2 # soil\n",
    "\n",
    "# emissivity values\n",
    "epsilon_v = 0.985\n",
    "epsilon_s = 0.97\n",
    "epsilon_w = 0.99\n",
    "\n",
    "# Constants\n",
    "cs_l8 = [0.04019, 0.02916, 1.01523,\n",
    "         -0.38333, -1.50294, 0.20324,\n",
    "         0.00918, 1.36072, -0.27514]\n",
    "cs_l7 = [0.06518, 0.00683, 1.02717,\n",
    "         -0.53003, -1.25866, 0.10490,\n",
    "         -0.01965, 1.36947, -0.24310]\n",
    "cs_l5 = [0.07518, -0.00492, 1.03189,\n",
    "         -0.59600, -1.22554, 0.08104,\n",
    "         -0.02767, 1.43740, -0.25844]"
   ]
  },
  {
   "cell_type": "code",
   "execution_count": 160,
   "metadata": {},
   "outputs": [
    {
     "data": {
      "text/html": [
       "\n",
       "            <style>\n",
       "                .geemap-dark {\n",
       "                    --jp-widgets-color: white;\n",
       "                    --jp-widgets-label-color: white;\n",
       "                    --jp-ui-font-color1: white;\n",
       "                    --jp-layout-color2: #454545;\n",
       "                    background-color: #383838;\n",
       "                }\n",
       "\n",
       "                .geemap-dark .jupyter-button {\n",
       "                    --jp-layout-color3: #383838;\n",
       "                }\n",
       "\n",
       "                .geemap-colab {\n",
       "                    background-color: var(--colab-primary-surface-color, white);\n",
       "                }\n",
       "\n",
       "                .geemap-colab .jupyter-button {\n",
       "                    --jp-layout-color3: var(--colab-primary-surface-color, white);\n",
       "                }\n",
       "            </style>\n",
       "            "
      ],
      "text/plain": [
       "<IPython.core.display.HTML object>"
      ]
     },
     "metadata": {},
     "output_type": "display_data"
    }
   ],
   "source": [
    "# Time\n",
    "year_start = 2020\n",
    "year_end = 2020\n",
    "month_start = 5\n",
    "month_end = 8\n",
    "\n",
    "# Space\n",
    "aois = gp.read_file(\"../../data/feature_layers/aois_test.geojson\")\n",
    "\n",
    "bbox = list(aois.total_bounds)\n",
    "select_roi = ee.Geometry.Rectangle(bbox)\n",
    "max_cloud_cover = 60\n",
    "epsg = 'EPSG:32655'\n",
    "pixel_resolution = 30\n",
    "roi_filename = 'KYT_TEST'"
   ]
  },
  {
   "cell_type": "code",
   "execution_count": 198,
   "metadata": {},
   "outputs": [
    {
     "data": {
      "text/html": [
       "\n",
       "            <style>\n",
       "                .geemap-dark {\n",
       "                    --jp-widgets-color: white;\n",
       "                    --jp-widgets-label-color: white;\n",
       "                    --jp-ui-font-color1: white;\n",
       "                    --jp-layout-color2: #454545;\n",
       "                    background-color: #383838;\n",
       "                }\n",
       "\n",
       "                .geemap-dark .jupyter-button {\n",
       "                    --jp-layout-color3: #383838;\n",
       "                }\n",
       "\n",
       "                .geemap-colab {\n",
       "                    background-color: var(--colab-primary-surface-color, white);\n",
       "                }\n",
       "\n",
       "                .geemap-colab .jupyter-button {\n",
       "                    --jp-layout-color3: var(--colab-primary-surface-color, white);\n",
       "                }\n",
       "            </style>\n",
       "            "
      ],
      "text/plain": [
       "<IPython.core.display.HTML object>"
      ]
     },
     "metadata": {},
     "output_type": "display_data"
    }
   ],
   "source": [
    "# Rename bands\n",
    "def fun_bands(img):\n",
    "    bands = ['SR_B2', 'SR_B3', 'SR_B4', 'SR_B5', 'SR_B6', 'SR_B7']\n",
    "    thermal_band = ['ST_B10']\n",
    "    new_bands = ['B', 'G', 'R', 'NIR', 'SWIR1', 'SWIR2']\n",
    "    new_thermal_bands = ['TIR']\n",
    "    vnirswir = img.select(bands)\\\n",
    "        .multiply(0.0000275).add(-0.2)\\\n",
    "            .rename(new_bands)\n",
    "    tir = img.select(thermal_band)\\\n",
    "        .multiply(0.00341802).add(149.0).subtract(273.15)\\\n",
    "            .rename(new_thermal_bands)\n",
    "    return vnirswir.addBands(tir).copyProperties(img, ['system:time_start'])"
   ]
  },
  {
   "cell_type": "code",
   "execution_count": 162,
   "metadata": {},
   "outputs": [
    {
     "data": {
      "text/html": [
       "\n",
       "            <style>\n",
       "                .geemap-dark {\n",
       "                    --jp-widgets-color: white;\n",
       "                    --jp-widgets-label-color: white;\n",
       "                    --jp-ui-font-color1: white;\n",
       "                    --jp-layout-color2: #454545;\n",
       "                    background-color: #383838;\n",
       "                }\n",
       "\n",
       "                .geemap-dark .jupyter-button {\n",
       "                    --jp-layout-color3: #383838;\n",
       "                }\n",
       "\n",
       "                .geemap-colab {\n",
       "                    background-color: var(--colab-primary-surface-color, white);\n",
       "                }\n",
       "\n",
       "                .geemap-colab .jupyter-button {\n",
       "                    --jp-layout-color3: var(--colab-primary-surface-color, white);\n",
       "                }\n",
       "            </style>\n",
       "            "
      ],
      "text/plain": [
       "<IPython.core.display.HTML object>"
      ]
     },
     "metadata": {},
     "output_type": "display_data"
    }
   ],
   "source": [
    "# Mask OLI-TIRS images \n",
    "def fun_mask_ls_sr(img):\n",
    "    cloudShadowBitMask = ee.Number(2).pow(3).int()\n",
    "    cloudsBitMask = ee.Number(2).pow(5).int()\n",
    "    snowBitMask = ee.Number(2).pow(4).int()\n",
    "    qa = img.select('QA_PIXEL')\n",
    "    mask = qa.bitwiseAnd(cloudShadowBitMask).eq(0).And(\n",
    "        qa.bitwiseAnd(cloudsBitMask).eq(0)).And(\n",
    "            qa.bitwiseAnd(snowBitMask).eq(0)\n",
    "            )\n",
    "    return img.updateMask(mask)"
   ]
  },
  {
   "cell_type": "code",
   "execution_count": 163,
   "metadata": {},
   "outputs": [
    {
     "data": {
      "text/html": [
       "\n",
       "            <style>\n",
       "                .geemap-dark {\n",
       "                    --jp-widgets-color: white;\n",
       "                    --jp-widgets-label-color: white;\n",
       "                    --jp-ui-font-color1: white;\n",
       "                    --jp-layout-color2: #454545;\n",
       "                    background-color: #383838;\n",
       "                }\n",
       "\n",
       "                .geemap-dark .jupyter-button {\n",
       "                    --jp-layout-color3: #383838;\n",
       "                }\n",
       "\n",
       "                .geemap-colab {\n",
       "                    background-color: var(--colab-primary-surface-color, white);\n",
       "                }\n",
       "\n",
       "                .geemap-colab .jupyter-button {\n",
       "                    --jp-layout-color3: var(--colab-primary-surface-color, white);\n",
       "                }\n",
       "            </style>\n",
       "            "
      ],
      "text/plain": [
       "<IPython.core.display.HTML object>"
      ]
     },
     "metadata": {},
     "output_type": "display_data"
    }
   ],
   "source": [
    "# Radiometric Calibration\n",
    "def fun_radcal(img):\n",
    "    radiance = ee.Algorithms.Landsat.calibratedRadiance(img).rename('RADIANCE')\n",
    "    return img.addBands(radiance)\n",
    "\n",
    "\n",
    "# L to ee.Image\n",
    "def fun_l_addband(img):\n",
    "    l = ee.Image(img.get('L')).select('RADIANCE').rename('L')\n",
    "    return img.addBands(l)\n",
    "\n",
    "\n",
    "# Create maxDifference-filter to match TOA and SR products\n",
    "maxDiffFilter = ee.Filter.maxDifference(\n",
    "    difference=2 * 24 * 60 * 60 * 1000,\n",
    "    leftField= 'system:time_start',\n",
    "    rightField= 'system:time_start'\n",
    ")\n",
    "\n",
    "# Define join: Water vapor\n",
    "join_wv = ee.Join.saveBest(\n",
    "    matchKey = 'WV',\n",
    "    measureKey = 'timeDiff'\n",
    ")\n",
    "\n",
    "# Define join: Radiance\n",
    "join_l = ee.Join.saveBest(\n",
    "    matchKey = 'L',\n",
    "    measureKey = 'timeDiff'\n",
    ")"
   ]
  },
  {
   "cell_type": "code",
   "execution_count": 164,
   "metadata": {},
   "outputs": [
    {
     "data": {
      "text/html": [
       "\n",
       "            <style>\n",
       "                .geemap-dark {\n",
       "                    --jp-widgets-color: white;\n",
       "                    --jp-widgets-label-color: white;\n",
       "                    --jp-ui-font-color1: white;\n",
       "                    --jp-layout-color2: #454545;\n",
       "                    background-color: #383838;\n",
       "                }\n",
       "\n",
       "                .geemap-dark .jupyter-button {\n",
       "                    --jp-layout-color3: #383838;\n",
       "                }\n",
       "\n",
       "                .geemap-colab {\n",
       "                    background-color: var(--colab-primary-surface-color, white);\n",
       "                }\n",
       "\n",
       "                .geemap-colab .jupyter-button {\n",
       "                    --jp-layout-color3: var(--colab-primary-surface-color, white);\n",
       "                }\n",
       "            </style>\n",
       "            "
      ],
      "text/plain": [
       "<IPython.core.display.HTML object>"
      ]
     },
     "metadata": {},
     "output_type": "display_data"
    }
   ],
   "source": [
    "# calculate NDVI\n",
    "def fun_ndvi(img):\n",
    "    ndvi = img.normalizedDifference(['NIR', 'R']).rename('NDVI')\n",
    "    return img.addBands(ndvi)\n",
    "\n",
    "# Fraction Vegetation Cover (FVC)\n",
    "def fun_fvc(img):\n",
    "    fvc = img.expression(\n",
    "        '((NDVI-NDVI_s)/(NDVI_v-NDVI_s))**2',\n",
    "        {\n",
    "            'NDVI': img.select('NDVI'),\n",
    "            'NDVI_s': ndvi_s,\n",
    "            'NDVI_v': ndvi_v\n",
    "        }\n",
    "    ).rename('FVC')\n",
    "    return img.addBands(fvc)"
   ]
  },
  {
   "cell_type": "code",
   "execution_count": 165,
   "metadata": {},
   "outputs": [
    {
     "data": {
      "text/html": [
       "\n",
       "            <style>\n",
       "                .geemap-dark {\n",
       "                    --jp-widgets-color: white;\n",
       "                    --jp-widgets-label-color: white;\n",
       "                    --jp-ui-font-color1: white;\n",
       "                    --jp-layout-color2: #454545;\n",
       "                    background-color: #383838;\n",
       "                }\n",
       "\n",
       "                .geemap-dark .jupyter-button {\n",
       "                    --jp-layout-color3: #383838;\n",
       "                }\n",
       "\n",
       "                .geemap-colab {\n",
       "                    background-color: var(--colab-primary-surface-color, white);\n",
       "                }\n",
       "\n",
       "                .geemap-colab .jupyter-button {\n",
       "                    --jp-layout-color3: var(--colab-primary-surface-color, white);\n",
       "                }\n",
       "            </style>\n",
       "            "
      ],
      "text/plain": [
       "<IPython.core.display.HTML object>"
      ]
     },
     "metadata": {},
     "output_type": "display_data"
    }
   ],
   "source": [
    "# Scale Emissivity (Epsilon) between NDVI_s and NDVI_v\n",
    "def fun_epsilon_scale(img):\n",
    "    epsilon_scale = img.expression(\n",
    "        'epsilon_s+(epsilon_v-epsilon_s)*FVC',\n",
    "        {\n",
    "            'FVC': img.select('FVC'),\n",
    "            'epsilon_s': epsilon_s,\n",
    "            'epsilon_v': epsilon_v\n",
    "        }\n",
    "    ).rename('EPSILON_SCALE')\n",
    "    return img.addBands(epsilon_scale)"
   ]
  },
  {
   "cell_type": "code",
   "execution_count": 166,
   "metadata": {},
   "outputs": [
    {
     "data": {
      "text/html": [
       "\n",
       "            <style>\n",
       "                .geemap-dark {\n",
       "                    --jp-widgets-color: white;\n",
       "                    --jp-widgets-label-color: white;\n",
       "                    --jp-ui-font-color1: white;\n",
       "                    --jp-layout-color2: #454545;\n",
       "                    background-color: #383838;\n",
       "                }\n",
       "\n",
       "                .geemap-dark .jupyter-button {\n",
       "                    --jp-layout-color3: #383838;\n",
       "                }\n",
       "\n",
       "                .geemap-colab {\n",
       "                    background-color: var(--colab-primary-surface-color, white);\n",
       "                }\n",
       "\n",
       "                .geemap-colab .jupyter-button {\n",
       "                    --jp-layout-color3: var(--colab-primary-surface-color, white);\n",
       "                }\n",
       "            </style>\n",
       "            "
      ],
      "text/plain": [
       "<IPython.core.display.HTML object>"
      ]
     },
     "metadata": {},
     "output_type": "display_data"
    }
   ],
   "source": [
    "# Get emissivity from NDVI thresholding\n",
    "def fun_epsilon(img):\n",
    "    pseudo = img.select(['NDVI']).set('system:time_start', img.get('system:time_start'))\n",
    "    epsilon = pseudo.where(img.expression('NDVI > NDVI_v',\n",
    "                                          {'NDVI': img.select('NDVI'),\n",
    "                                           'NDVI_v': ndvi_v}), epsilon_v)\n",
    "    epsilon = epsilon.where(img.expression('NDVI < NDVI_s && NDVI >= 0',\n",
    "                                           {'NDVI': img.select('NDVI'),\n",
    "                                            'NDVI_s': ndvi_s}), epsilon_s)\n",
    "    epsilon = epsilon.where(img.expression('NDVI < 0',\n",
    "                                           {'NDVI': img.select('NDVI')}), epsilon_w)\n",
    "    epsilon = epsilon.where(img.expression('NDVI <= NDVI_v && NDVI >= NDVI_s',\n",
    "                                           {'NDVI': img.select('NDVI'),\n",
    "                                            'NDVI_v': ndvi_v,\n",
    "                                            'NDVI_s': ndvi_s}), img.select('EPSILON_SCALE')).rename('EPSILON')\n",
    "    return img.addBands(epsilon)\n"
   ]
  },
  {
   "cell_type": "code",
   "execution_count": 167,
   "metadata": {},
   "outputs": [
    {
     "data": {
      "text/html": [
       "\n",
       "            <style>\n",
       "                .geemap-dark {\n",
       "                    --jp-widgets-color: white;\n",
       "                    --jp-widgets-label-color: white;\n",
       "                    --jp-ui-font-color1: white;\n",
       "                    --jp-layout-color2: #454545;\n",
       "                    background-color: #383838;\n",
       "                }\n",
       "\n",
       "                .geemap-dark .jupyter-button {\n",
       "                    --jp-layout-color3: #383838;\n",
       "                }\n",
       "\n",
       "                .geemap-colab {\n",
       "                    background-color: var(--colab-primary-surface-color, white);\n",
       "                }\n",
       "\n",
       "                .geemap-colab .jupyter-button {\n",
       "                    --jp-layout-color3: var(--colab-primary-surface-color, white);\n",
       "                }\n",
       "            </style>\n",
       "            "
      ],
      "text/plain": [
       "<IPython.core.display.HTML object>"
      ]
     },
     "metadata": {},
     "output_type": "display_data"
    }
   ],
   "source": [
    "# Function to scale WV content product\n",
    "def fun_wv_scale(img):\n",
    "    wv_scaled = ee.Image(img.get('WV')).multiply(0.1).rename('WV_SCALED')\n",
    "    wv_scaled = wv_scaled.resample('bilinear')\n",
    "    return img.addBands(wv_scaled)\n"
   ]
  },
  {
   "cell_type": "code",
   "execution_count": 168,
   "metadata": {},
   "outputs": [
    {
     "data": {
      "text/html": [
       "\n",
       "            <style>\n",
       "                .geemap-dark {\n",
       "                    --jp-widgets-color: white;\n",
       "                    --jp-widgets-label-color: white;\n",
       "                    --jp-ui-font-color1: white;\n",
       "                    --jp-layout-color2: #454545;\n",
       "                    background-color: #383838;\n",
       "                }\n",
       "\n",
       "                .geemap-dark .jupyter-button {\n",
       "                    --jp-layout-color3: #383838;\n",
       "                }\n",
       "\n",
       "                .geemap-colab {\n",
       "                    background-color: var(--colab-primary-surface-color, white);\n",
       "                }\n",
       "\n",
       "                .geemap-colab .jupyter-button {\n",
       "                    --jp-layout-color3: var(--colab-primary-surface-color, white);\n",
       "                }\n",
       "            </style>\n",
       "            "
      ],
      "text/plain": [
       "<IPython.core.display.HTML object>"
      ]
     },
     "metadata": {},
     "output_type": "display_data"
    }
   ],
   "source": [
    "# Atmospheric Functions\n",
    "def fun_af1(cs):\n",
    "    def wrap(img):\n",
    "        af1 = img.expression(\n",
    "            '('+str(cs[0])+'*(WV**2))+('+str(cs[1])+'*WV)+('+str(cs[2])+')',\n",
    "            {\n",
    "                'WV': img.select('WV_SCALED')\n",
    "            }\n",
    "        ).rename('AF1')\n",
    "        return img.addBands(af1)\n",
    "    return wrap\n",
    "\n",
    "\n",
    "def fun_af2(cs):\n",
    "    def wrap(img):\n",
    "        af2 = img.expression(\n",
    "            '('+str(cs[3])+'*(WV**2))+('+str(cs[4])+'*WV)+('+str(cs[5])+')',\n",
    "            {\n",
    "                'WV': img.select('WV_SCALED')\n",
    "            }\n",
    "        ).rename('AF2')\n",
    "        return img.addBands(af2)\n",
    "    return wrap\n",
    "\n",
    "\n",
    "def fun_af3(cs):\n",
    "    def wrap(img):\n",
    "        af3 = img.expression(\n",
    "            '('+str(cs[6])+'*(WV**2))+('+str(cs[7])+'*WV)+('+str(cs[8])+')',\n",
    "            {\n",
    "                'WV': img.select('WV_SCALED')\n",
    "            }\n",
    "        ).rename('AF3')\n",
    "        return img.addBands(af3)\n",
    "    return wrap\n"
   ]
  },
  {
   "cell_type": "code",
   "execution_count": 169,
   "metadata": {},
   "outputs": [
    {
     "data": {
      "text/html": [
       "\n",
       "            <style>\n",
       "                .geemap-dark {\n",
       "                    --jp-widgets-color: white;\n",
       "                    --jp-widgets-label-color: white;\n",
       "                    --jp-ui-font-color1: white;\n",
       "                    --jp-layout-color2: #454545;\n",
       "                    background-color: #383838;\n",
       "                }\n",
       "\n",
       "                .geemap-dark .jupyter-button {\n",
       "                    --jp-layout-color3: #383838;\n",
       "                }\n",
       "\n",
       "                .geemap-colab {\n",
       "                    background-color: var(--colab-primary-surface-color, white);\n",
       "                }\n",
       "\n",
       "                .geemap-colab .jupyter-button {\n",
       "                    --jp-layout-color3: var(--colab-primary-surface-color, white);\n",
       "                }\n",
       "            </style>\n",
       "            "
      ],
      "text/plain": [
       "<IPython.core.display.HTML object>"
      ]
     },
     "metadata": {},
     "output_type": "display_data"
    }
   ],
   "source": [
    "# Gamma Functions\n",
    "def fun_gamma_l8(img):\n",
    "    gamma = img.expression('(BT**2)/(1324*L)',\n",
    "                           {'BT': img.select('TIR'),\n",
    "                            'L': img.select('L')\n",
    "                            }).rename('GAMMA')\n",
    "    return img.addBands(gamma)"
   ]
  },
  {
   "cell_type": "code",
   "execution_count": 170,
   "metadata": {},
   "outputs": [
    {
     "data": {
      "text/html": [
       "\n",
       "            <style>\n",
       "                .geemap-dark {\n",
       "                    --jp-widgets-color: white;\n",
       "                    --jp-widgets-label-color: white;\n",
       "                    --jp-ui-font-color1: white;\n",
       "                    --jp-layout-color2: #454545;\n",
       "                    background-color: #383838;\n",
       "                }\n",
       "\n",
       "                .geemap-dark .jupyter-button {\n",
       "                    --jp-layout-color3: #383838;\n",
       "                }\n",
       "\n",
       "                .geemap-colab {\n",
       "                    background-color: var(--colab-primary-surface-color, white);\n",
       "                }\n",
       "\n",
       "                .geemap-colab .jupyter-button {\n",
       "                    --jp-layout-color3: var(--colab-primary-surface-color, white);\n",
       "                }\n",
       "            </style>\n",
       "            "
      ],
      "text/plain": [
       "<IPython.core.display.HTML object>"
      ]
     },
     "metadata": {},
     "output_type": "display_data"
    }
   ],
   "source": [
    "# Delta Functions\n",
    "def fun_delta_l8(img):\n",
    "    delta = img.expression('BT-((BT**2)/1324)',\n",
    "                           {'BT': img.select('TIR')\n",
    "                            }).rename('DELTA')\n",
    "    return img.addBands(delta)"
   ]
  },
  {
   "cell_type": "code",
   "execution_count": 171,
   "metadata": {},
   "outputs": [
    {
     "data": {
      "text/html": [
       "\n",
       "            <style>\n",
       "                .geemap-dark {\n",
       "                    --jp-widgets-color: white;\n",
       "                    --jp-widgets-label-color: white;\n",
       "                    --jp-ui-font-color1: white;\n",
       "                    --jp-layout-color2: #454545;\n",
       "                    background-color: #383838;\n",
       "                }\n",
       "\n",
       "                .geemap-dark .jupyter-button {\n",
       "                    --jp-layout-color3: #383838;\n",
       "                }\n",
       "\n",
       "                .geemap-colab {\n",
       "                    background-color: var(--colab-primary-surface-color, white);\n",
       "                }\n",
       "\n",
       "                .geemap-colab .jupyter-button {\n",
       "                    --jp-layout-color3: var(--colab-primary-surface-color, white);\n",
       "                }\n",
       "            </style>\n",
       "            "
      ],
      "text/plain": [
       "<IPython.core.display.HTML object>"
      ]
     },
     "metadata": {},
     "output_type": "display_data"
    }
   ],
   "source": [
    "# Land Surface Temperature\n",
    "def fun_lst(img):\n",
    "    lst = img.expression(\n",
    "        '(GAMMA*(((1/EPSILON)*(AF1*L+AF2))+AF3)+DELTA)-273.15',\n",
    "        {\n",
    "            'GAMMA': img.select('GAMMA'),\n",
    "            'DELTA': img.select('DELTA'),\n",
    "            'EPSILON': img.select('EPSILON'),\n",
    "            'AF1': img.select('AF1'),\n",
    "            'AF2': img.select('AF2'),\n",
    "            'AF3': img.select('AF3'),\n",
    "            'L': img.select('L')\n",
    "        }\n",
    "    ).rename('LST')\n",
    "    return img.addBands(lst)\n"
   ]
  },
  {
   "cell_type": "code",
   "execution_count": 172,
   "metadata": {},
   "outputs": [
    {
     "data": {
      "text/html": [
       "\n",
       "            <style>\n",
       "                .geemap-dark {\n",
       "                    --jp-widgets-color: white;\n",
       "                    --jp-widgets-label-color: white;\n",
       "                    --jp-ui-font-color1: white;\n",
       "                    --jp-layout-color2: #454545;\n",
       "                    background-color: #383838;\n",
       "                }\n",
       "\n",
       "                .geemap-dark .jupyter-button {\n",
       "                    --jp-layout-color3: #383838;\n",
       "                }\n",
       "\n",
       "                .geemap-colab {\n",
       "                    background-color: var(--colab-primary-surface-color, white);\n",
       "                }\n",
       "\n",
       "                .geemap-colab .jupyter-button {\n",
       "                    --jp-layout-color3: var(--colab-primary-surface-color, white);\n",
       "                }\n",
       "            </style>\n",
       "            "
      ],
      "text/plain": [
       "<IPython.core.display.HTML object>"
      ]
     },
     "metadata": {},
     "output_type": "display_data"
    }
   ],
   "source": [
    "def fun_date(img):\n",
    "    return ee.Date(ee.Image(img).date().format(\"YYYY-MM-dd\"))\n",
    "\n",
    "\n",
    "def fun_getdates(imgCol):\n",
    "    return ee.List(imgCol.toList(imgCol.size()).map(fun_date))\n",
    "\n",
    "\n",
    "def fun_mosaic(date, newList):\n",
    "    # cast list & date\n",
    "    newList = ee.List(newList)\n",
    "    date = ee.Date(date)\n",
    "\n",
    "    # filter img-collection\n",
    "    filtered = ee.ImageCollection(subCol.filterDate(date, date.advance(1, 'day')))\n",
    "\n",
    "    # check duplicate\n",
    "    img_previous = ee.Image(newList.get(-1))\n",
    "    img_previous_datestring = img_previous.date().format(\"YYYY-MM-dd\")\n",
    "    img_previous_millis = ee.Number(ee.Date(img_previous_datestring).millis())\n",
    "\n",
    "    img_new_datestring = filtered.select(parameter).first().date().format(\"YYYY-MM-dd\")\n",
    "    img_new_date = ee.Date(img_new_datestring).millis()\n",
    "    img_new_millis = ee.Number(ee.Date(img_new_datestring).millis())\n",
    "\n",
    "    date_diff = img_previous_millis.subtract(img_new_millis)\n",
    "\n",
    "    # mosaic\n",
    "    img_mosaic = ee.Algorithms.If(\n",
    "        date_diff.neq(0),\n",
    "        filtered.select(parameter).mosaic().set('system:time_start', img_new_date),\n",
    "        ee.ImageCollection(subCol.filterDate(pseudodate, pseudodate.advance(1, 'day')))\n",
    "    )\n",
    "\n",
    "    tester = ee.Algorithms.If(date_diff.neq(0), ee.Number(1), ee.Number(0))\n",
    "\n",
    "    return ee.Algorithms.If(tester, newList.add(img_mosaic), newList)\n",
    "\n",
    "\n",
    "def fun_timeband(img):\n",
    "    time = ee.Image(img.metadata('system:time_start', 'TIME').divide(86400000))\n",
    "    timeband = time.updateMask(img.select(parameter).mask())\n",
    "    return img.addBands(timeband)"
   ]
  },
  {
   "cell_type": "markdown",
   "metadata": {},
   "source": [
    "# Apply on EE Server"
   ]
  },
  {
   "cell_type": "code",
   "execution_count": 173,
   "metadata": {},
   "outputs": [
    {
     "data": {
      "text/html": [
       "\n",
       "            <style>\n",
       "                .geemap-dark {\n",
       "                    --jp-widgets-color: white;\n",
       "                    --jp-widgets-label-color: white;\n",
       "                    --jp-ui-font-color1: white;\n",
       "                    --jp-layout-color2: #454545;\n",
       "                    background-color: #383838;\n",
       "                }\n",
       "\n",
       "                .geemap-dark .jupyter-button {\n",
       "                    --jp-layout-color3: #383838;\n",
       "                }\n",
       "\n",
       "                .geemap-colab {\n",
       "                    background-color: var(--colab-primary-surface-color, white);\n",
       "                }\n",
       "\n",
       "                .geemap-colab .jupyter-button {\n",
       "                    --jp-layout-color3: var(--colab-primary-surface-color, white);\n",
       "                }\n",
       "            </style>\n",
       "            "
      ],
      "text/plain": [
       "<IPython.core.display.HTML object>"
      ]
     },
     "metadata": {},
     "output_type": "display_data"
    }
   ],
   "source": [
    "ndvi_v = ee.Number(ndvi_v)\n",
    "ndvi_s = ee.Number(ndvi_s)\n",
    "\n",
    "epsilon_v = ee.Number(epsilon_v)\n",
    "epsilon_s = ee.Number(epsilon_s)\n",
    "epsilon_w = ee.Number(epsilon_w)"
   ]
  },
  {
   "cell_type": "code",
   "execution_count": 174,
   "metadata": {},
   "outputs": [
    {
     "data": {
      "text/html": [
       "\n",
       "            <style>\n",
       "                .geemap-dark {\n",
       "                    --jp-widgets-color: white;\n",
       "                    --jp-widgets-label-color: white;\n",
       "                    --jp-ui-font-color1: white;\n",
       "                    --jp-layout-color2: #454545;\n",
       "                    background-color: #383838;\n",
       "                }\n",
       "\n",
       "                .geemap-dark .jupyter-button {\n",
       "                    --jp-layout-color3: #383838;\n",
       "                }\n",
       "\n",
       "                .geemap-colab {\n",
       "                    background-color: var(--colab-primary-surface-color, white);\n",
       "                }\n",
       "\n",
       "                .geemap-colab .jupyter-button {\n",
       "                    --jp-layout-color3: var(--colab-primary-surface-color, white);\n",
       "                }\n",
       "            </style>\n",
       "            "
      ],
      "text/plain": [
       "<IPython.core.display.HTML object>"
      ]
     },
     "metadata": {},
     "output_type": "display_data"
    }
   ],
   "source": [
    "# Landsat 8 OLI-TIRS\n",
    "imgCol_L8_TOA = ee.ImageCollection('LANDSAT/LC08/C02/T1_TOA')\\\n",
    "    .filterBounds(select_roi)\\\n",
    "    .filter(ee.Filter.calendarRange(year_start,year_end,'year'))\\\n",
    "    .filter(ee.Filter.calendarRange(month_start,month_end,'month'))\\\n",
    "    .filter(ee.Filter.lt('CLOUD_COVER_LAND', max_cloud_cover))\\\n",
    "    .select(['B10'])\n",
    "\n",
    "imgCol_L8_SR = ee.ImageCollection('LANDSAT/LC08/C02/T1_L2')\\\n",
    "    .filterBounds(select_roi)\\\n",
    "    .filter(ee.Filter.calendarRange(year_start,year_end,'year'))\\\n",
    "    .filter(ee.Filter.calendarRange(month_start,month_end,'month'))\\\n",
    "    .filter(ee.Filter.lt('CLOUD_COVER_LAND', max_cloud_cover))\\\n",
    "    .map(fun_mask_ls_sr)\n",
    "\n",
    "imgCol_L8_SR = imgCol_L8_SR.map(fun_bands)"
   ]
  },
  {
   "cell_type": "code",
   "execution_count": 175,
   "metadata": {},
   "outputs": [
    {
     "data": {
      "text/html": [
       "\n",
       "            <style>\n",
       "                .geemap-dark {\n",
       "                    --jp-widgets-color: white;\n",
       "                    --jp-widgets-label-color: white;\n",
       "                    --jp-ui-font-color1: white;\n",
       "                    --jp-layout-color2: #454545;\n",
       "                    background-color: #383838;\n",
       "                }\n",
       "\n",
       "                .geemap-dark .jupyter-button {\n",
       "                    --jp-layout-color3: #383838;\n",
       "                }\n",
       "\n",
       "                .geemap-colab {\n",
       "                    background-color: var(--colab-primary-surface-color, white);\n",
       "                }\n",
       "\n",
       "                .geemap-colab .jupyter-button {\n",
       "                    --jp-layout-color3: var(--colab-primary-surface-color, white);\n",
       "                }\n",
       "            </style>\n",
       "            "
      ],
      "text/plain": [
       "<IPython.core.display.HTML object>"
      ]
     },
     "metadata": {},
     "output_type": "display_data"
    }
   ],
   "source": [
    "# NCEP/NCAR Water Vapor Product\n",
    "imgCol_WV = ee.ImageCollection('NCEP_RE/surface_wv')\\\n",
    "    .filterBounds(select_roi)\\\n",
    "    .filter(ee.Filter.calendarRange(year_start,year_end,'year'))\\\n",
    "    .filter(ee.Filter.calendarRange(month_start,month_end,'month'))\n"
   ]
  },
  {
   "cell_type": "markdown",
   "metadata": {},
   "source": [
    "Get LST ImageCollection"
   ]
  },
  {
   "cell_type": "code",
   "execution_count": 199,
   "metadata": {},
   "outputs": [
    {
     "data": {
      "text/html": [
       "\n",
       "            <style>\n",
       "                .geemap-dark {\n",
       "                    --jp-widgets-color: white;\n",
       "                    --jp-widgets-label-color: white;\n",
       "                    --jp-ui-font-color1: white;\n",
       "                    --jp-layout-color2: #454545;\n",
       "                    background-color: #383838;\n",
       "                }\n",
       "\n",
       "                .geemap-dark .jupyter-button {\n",
       "                    --jp-layout-color3: #383838;\n",
       "                }\n",
       "\n",
       "                .geemap-colab {\n",
       "                    background-color: var(--colab-primary-surface-color, white);\n",
       "                }\n",
       "\n",
       "                .geemap-colab .jupyter-button {\n",
       "                    --jp-layout-color3: var(--colab-primary-surface-color, white);\n",
       "                }\n",
       "            </style>\n",
       "            "
      ],
      "text/plain": [
       "<IPython.core.display.HTML object>"
      ]
     },
     "metadata": {},
     "output_type": "display_data"
    }
   ],
   "source": [
    "imgCol_L8_SR = ee.ImageCollection('LANDSAT/LC08/C02/T1_L2')\\\n",
    "    .filterBounds(select_roi)\\\n",
    "    .filter(ee.Filter.calendarRange(year_start,year_end,'year'))\\\n",
    "    .filter(ee.Filter.calendarRange(month_start,month_end,'month'))\\\n",
    "    .filter(ee.Filter.lt('CLOUD_COVER_LAND', max_cloud_cover))\\\n",
    "    .map(fun_mask_ls_sr)\n",
    "\n",
    "# Rename bands\n",
    "imgCol_L8_SR = imgCol_L8_SR.map(fun_bands)\n",
    "\n",
    "imgCol_L8_SR = imgCol_L8_SR.map(fun_ndvi)\n",
    "imgCol_L8_SR = imgCol_L8_SR.map(fun_fvc)"
   ]
  },
  {
   "cell_type": "code",
   "execution_count": 195,
   "metadata": {},
   "outputs": [
    {
     "data": {
      "text/html": [
       "\n",
       "            <style>\n",
       "                .geemap-dark {\n",
       "                    --jp-widgets-color: white;\n",
       "                    --jp-widgets-label-color: white;\n",
       "                    --jp-ui-font-color1: white;\n",
       "                    --jp-layout-color2: #454545;\n",
       "                    background-color: #383838;\n",
       "                }\n",
       "\n",
       "                .geemap-dark .jupyter-button {\n",
       "                    --jp-layout-color3: #383838;\n",
       "                }\n",
       "\n",
       "                .geemap-colab {\n",
       "                    background-color: var(--colab-primary-surface-color, white);\n",
       "                }\n",
       "\n",
       "                .geemap-colab .jupyter-button {\n",
       "                    --jp-layout-color3: var(--colab-primary-surface-color, white);\n",
       "                }\n",
       "            </style>\n",
       "            "
      ],
      "text/plain": [
       "<IPython.core.display.HTML object>"
      ]
     },
     "metadata": {},
     "output_type": "display_data"
    }
   ],
   "source": [
    "import json\n",
    "file_path = \"../../data/feature_layers/roi.geojson\"\n",
    "\n",
    "with open(file_path) as f:\n",
    "    json_data = json.load(f)\n",
    "\n",
    "bbox = geemap.geojson_to_ee(json_data)\n",
    "\n",
    "from ipyleaflet import GeoJSON\n",
    "json_layer = GeoJSON(\n",
    "    data=json_data,\n",
    "    name=\"bbox\",\n",
    "    hover_style={\"fillColor\": \"red\", \"fillOpacity\": 0},\n",
    ")\n"
   ]
  },
  {
   "cell_type": "code",
   "execution_count": 203,
   "metadata": {},
   "outputs": [
    {
     "data": {
      "text/html": [
       "\n",
       "            <style>\n",
       "                .geemap-dark {\n",
       "                    --jp-widgets-color: white;\n",
       "                    --jp-widgets-label-color: white;\n",
       "                    --jp-ui-font-color1: white;\n",
       "                    --jp-layout-color2: #454545;\n",
       "                    background-color: #383838;\n",
       "                }\n",
       "\n",
       "                .geemap-dark .jupyter-button {\n",
       "                    --jp-layout-color3: #383838;\n",
       "                }\n",
       "\n",
       "                .geemap-colab {\n",
       "                    background-color: var(--colab-primary-surface-color, white);\n",
       "                }\n",
       "\n",
       "                .geemap-colab .jupyter-button {\n",
       "                    --jp-layout-color3: var(--colab-primary-surface-color, white);\n",
       "                }\n",
       "            </style>\n",
       "            "
      ],
      "text/plain": [
       "<IPython.core.display.HTML object>"
      ]
     },
     "metadata": {},
     "output_type": "display_data"
    },
    {
     "data": {
      "application/vnd.jupyter.widget-view+json": {
       "model_id": "a858bc69eb624e5caa07bc388ab9d8f1",
       "version_major": 2,
       "version_minor": 0
      },
      "text/plain": [
       "Map(center=[70.8852923280616, 145.3421989895628], controls=(WidgetControl(options=['position', 'transparent_bg…"
      ]
     },
     "execution_count": 203,
     "metadata": {},
     "output_type": "execute_result"
    }
   ],
   "source": [
    "m = geemap.Map()\n",
    "m.add_basemap(\"SATELLITE\")\n",
    "vis_params = {\n",
    "    'bands': ['TIR'],\n",
    "    'min': -5,\n",
    "    'max': 40,\n",
    "    'palette': \"inferno\",\n",
    "}\n",
    "m.add_layer(imgCol_L8_SR, vis_params, 'LST')\n",
    "m.add_layer(json_layer)\n",
    "m.setCenter(145.3421989895628, 70.8852923280616, zoom = 8)\n",
    "m"
   ]
  },
  {
   "cell_type": "code",
   "execution_count": null,
   "metadata": {},
   "outputs": [],
   "source": [
    " # Mosaic imgCollection\n",
    "pseudodate = ee.Date('1960-01-01')\n",
    "subCol = ee.ImageCollection(imgCol_merge.select(parameter))\n",
    "dates = fun_getdates(subCol)\n",
    "ini_date = ee.Date(dates.get(0))\n",
    "ini_merge = subCol.filterDate(ini_date, ini_date.advance(1, 'day'))\n",
    "ini_merge = ini_merge.select(parameter).mosaic().set('system:time_start', ini_date.millis())\n",
    "ini = ee.List([ini_merge])\n",
    "imgCol_mosaic = ee.ImageCollection(ee.List(dates.iterate(fun_mosaic, ini)))\n",
    "imgCol_mosaic = imgCol_mosaic.map(fun_timeband)"
   ]
  }
 ],
 "metadata": {
  "kernelspec": {
   "display_name": "pygeo",
   "language": "python",
   "name": "python3"
  },
  "language_info": {
   "codemirror_mode": {
    "name": "ipython",
    "version": 3
   },
   "file_extension": ".py",
   "mimetype": "text/x-python",
   "name": "python",
   "nbconvert_exporter": "python",
   "pygments_lexer": "ipython3",
   "version": "3.10.6"
  }
 },
 "nbformat": 4,
 "nbformat_minor": 2
}
